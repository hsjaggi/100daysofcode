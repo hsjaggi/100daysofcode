{
 "cells": [
  {
   "cell_type": "markdown",
   "id": "269bed39-e77b-4b12-af3c-69d4f5cf007f",
   "metadata": {},
   "source": [
    "List-Comprehensions\n",
    "\n",
    "List comprehensions provide a concise way to create lists. They offer a compact syntax for generating lists based on existing iterables, such as lists, strings, or ranges.\n",
    "\n",
    "Basic Syntax:\n",
    "The basic syntax of a list comprehension consists of an expression followed by a for clause, all enclosed in square brackets [].\n",
    "\n"
   ]
  },
  {
   "cell_type": "code",
   "execution_count": 1,
   "id": "42b24f8d-3c17-4602-97bb-23d953db72e9",
   "metadata": {
    "tags": []
   },
   "outputs": [
    {
     "name": "stdout",
     "output_type": "stream",
     "text": [
      "[0, 1, 4, 9, 16]\n"
     ]
    }
   ],
   "source": [
    "squares = [x**2 for x in range(5)]\n",
    "print(squares)"
   ]
  },
  {
   "cell_type": "markdown",
   "id": "c67b47d2-5b8b-4af5-ba6b-1a762a465467",
   "metadata": {},
   "source": [
    "In this example, the list comprehension generates a list of squares for each element in the range from 0 to 4.\n",
    "\n",
    "Condition in List Comprehension:\n",
    "You can include an optional if clause to filter elements based on a condition."
   ]
  },
  {
   "cell_type": "markdown",
   "id": "433a7464-e408-46bc-a53a-e9d4cc733ea8",
   "metadata": {},
   "source": [
    "The if clause filters out odd numbers, resulting in a list of even numbers.\n",
    "\n",
    "Nested List Comprehensions:\n",
    "List comprehensions can be nested to create more complex structures.\n",
    "\n"
   ]
  },
  {
   "cell_type": "code",
   "execution_count": 2,
   "id": "e852cdb1-8fcd-43d8-9240-132988f09a41",
   "metadata": {
    "tags": []
   },
   "outputs": [
    {
     "name": "stdout",
     "output_type": "stream",
     "text": [
      "[[0, 0, 0], [0, 1, 2], [0, 2, 4], [0, 3, 6]]\n"
     ]
    }
   ],
   "source": [
    "matrix = [[i * j for j in range(3)] for i in range(4)]\n",
    "print(matrix)"
   ]
  },
  {
   "cell_type": "markdown",
   "id": "4f351371-1368-490c-8e7d-86d0931c02d9",
   "metadata": {},
   "source": [
    "Using Functions in List Comprehension:\n",
    "You can apply functions to elements within a list comprehension.\n",
    "\n"
   ]
  },
  {
   "cell_type": "code",
   "execution_count": 3,
   "id": "97d2b927-fc42-4548-b96e-b8145d44e5d4",
   "metadata": {
    "tags": []
   },
   "outputs": [
    {
     "name": "stdout",
     "output_type": "stream",
     "text": [
      "['A', 'B', 'C']\n"
     ]
    }
   ],
   "source": [
    "letters = ['a', 'b', 'c']\n",
    "uppercase_letters = [letter.upper() for letter in letters]\n",
    "print(uppercase_letters)"
   ]
  },
  {
   "cell_type": "markdown",
   "id": "bf90802d-fe52-4cec-9903-ff25b96ab602",
   "metadata": {
    "tags": []
   },
   "source": [
    "The upper() function is applied to each letter in the list to convert them to uppercase.\n",
    "\n",
    "Applications of List Comprehensions:\n",
    "1. Filtering: Create a sub-list based on a condition.\n",
    "\n",
    "2. Transformation: Apply a transformation to each element in a list.\n",
    "\n",
    "3.Matrix Operations: Generate matrices and perform operations.\n",
    "\n",
    "4. String Manipulation: Create lists of characters or modify strings."
   ]
  },
  {
   "cell_type": "code",
   "execution_count": null,
   "id": "0e2f366a-a436-4b0e-bf87-dfde6216f1bc",
   "metadata": {},
   "outputs": [],
   "source": []
  }
 ],
 "metadata": {
  "kernelspec": {
   "display_name": "Python 3 (ipykernel)",
   "language": "python",
   "name": "python3"
  },
  "language_info": {
   "codemirror_mode": {
    "name": "ipython",
    "version": 3
   },
   "file_extension": ".py",
   "mimetype": "text/x-python",
   "name": "python",
   "nbconvert_exporter": "python",
   "pygments_lexer": "ipython3",
   "version": "3.11.5"
  }
 },
 "nbformat": 4,
 "nbformat_minor": 5
}
