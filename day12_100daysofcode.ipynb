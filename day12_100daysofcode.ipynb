{
 "cells": [
  {
   "cell_type": "markdown",
   "id": "7da53d54-174d-484c-ae1e-c01baef1269d",
   "metadata": {},
   "source": [
    "Dictionary\n",
    "\n",
    "A dictionary in Python is a collection of key values, used to store data values like a map, which, unlike other data types holds Key-value only a single value as an element.\n",
    "\n",
    "Dictionary Syntax\n",
    "dict_var = {key1 : value1, key2 : value2, …..}\n",
    "\n",
    "Properties of dictionary\n",
    "Dictionaries in Python are unordered collections of items. Unlike lists, the order in which items are added to a dictionary is not preserved.\n",
    "Dictionaries are mutable, meaning you can modify their contents by adding, removing, or updating key-value pairs.\n",
    "Keys in a dictionary must be immutable, meaning they cannot be changed after creation. Values in a dictionary, on the other hand, can be of any data type and are mutable.\n",
    "Retrieving a value from a dictionary is highly efficient, typically taking constant time on average.\n",
    "Creating a dictionary\n",
    "There are different ways to create a dictionary. You can create a dictionary in Python using curly braces {} and specifying key-value pairs separated by colons ':' . Dictionary can also be created by the built-in function dict(). An empty dictionary can be created by just placing to curly braces{}."
   ]
  },
  {
   "cell_type": "code",
   "execution_count": 1,
   "id": "52619752-c7e0-46c8-a95d-845ebadd9742",
   "metadata": {
    "tags": []
   },
   "outputs": [
    {
     "name": "stdout",
     "output_type": "stream",
     "text": [
      "Empty Dictionary: \n",
      "{}\n",
      "Dictionary with the use of dict() method: \n",
      "{1: 'Data', 2: 'Science', 3: 'Python'}\n",
      "Dictionary with each item as a pair: \n",
      "{1: 'Data', 2: 'Science'}\n"
     ]
    }
   ],
   "source": [
    "Dict = {}\n",
    "print(\"Empty Dictionary: \")\n",
    "print(Dict)\n",
    "\n",
    "Dict = dict({1: 'Data', 2: 'Science', 3: 'Python'})\n",
    "print(\"Dictionary with the use of dict() method: \")\n",
    "print(Dict)\n",
    "\n",
    "Dict = dict([(1, 'Data'), (2, 'Science')])\n",
    "print(\"Dictionary with each item as a pair: \")\n",
    "print(Dict)"
   ]
  },
  {
   "cell_type": "markdown",
   "id": "60659a1b-d3a4-4dbc-aaba-097e17fcd71d",
   "metadata": {},
   "source": [
    "Complexities for Creating a Dictionary\n",
    "\n",
    "Time complexity: O(len(dict))\n",
    "\n",
    "Space complexity: O(n)\n",
    "\n",
    "Accessing values of a dictionary\n",
    "To access a value in a dictionary, you can use square brackets [] and provide the key. If the key is not present in the dictionary, it will raise a KeyError. To avoid this, you can use the get method."
   ]
  },
  {
   "cell_type": "code",
   "execution_count": 2,
   "id": "5aa1c8b8-274a-4b27-9b46-cd0a4ea492da",
   "metadata": {
    "tags": []
   },
   "outputs": [
    {
     "name": "stdout",
     "output_type": "stream",
     "text": [
      "Rose\n",
      "24\n",
      "Rose\n",
      "Unknown\n"
     ]
    }
   ],
   "source": [
    "my_dict = {'name':'Rose', 'age': 24}\n",
    "print(my_dict['name'])  \n",
    "print(my_dict['age'])   \n",
    "print(my_dict.get('name','Unknown'))\n",
    "print(my_dict.get('city','Unknown'))\n"
   ]
  },
  {
   "cell_type": "markdown",
   "id": "ac74f98a-3976-4a0f-b91d-9054174cdb5f",
   "metadata": {},
   "source": [
    "Complexities for Accessing elements in a Dictionary:\n",
    "\n",
    "Time complexity: O(1)\n",
    "\n",
    "Space complexity: O(1)\n",
    "\n",
    "Modifying and adding elements\n",
    "You can add elements in a dictionary in multiple ways. One value at a time can be added to a Dictionary by defining value along with the key, for instance Dict[Key] = ‘Value’. Updating an existing value in a Dictionary can be done by using the built-in update() method.\n",
    "\n",
    "Note - If the key doesn't exist it creates a new key-value pair and if the key already exists in a dictionary it updates it's values with a new value.\n",
    "\n"
   ]
  },
  {
   "cell_type": "code",
   "execution_count": 3,
   "id": "658b3de3-5aa8-4262-9a72-2f24bb307e87",
   "metadata": {
    "tags": []
   },
   "outputs": [
    {
     "name": "stdout",
     "output_type": "stream",
     "text": [
      "Dictionary after adding/modifying elements: \n",
      "{'name': 'Rose', 'age': 24, 'city': 'Jaipur'}\n",
      "Dictionary after modifying elements through update:\n",
      "{'name': 'Rose', 'age': 26, 'city': 'Noida'}\n"
     ]
    }
   ],
   "source": [
    "Dict = {}\n",
    "Dict['name'] = 'Rose'\n",
    "Dict['age'] = 24\n",
    "Dict['city'] = 'Gwalior'\n",
    "Dict ['city'] = 'Jaipur'\n",
    "print(\"Dictionary after adding/modifying elements: \")\n",
    "print(Dict)\n",
    "\n",
    "#modifying dict using update function\n",
    "print(\"Dictionary after modifying elements through update:\")\n",
    "Dict.update({'age':26,'city':'Noida'})\n",
    "print(Dict)"
   ]
  },
  {
   "cell_type": "markdown",
   "id": "fb5c4873-9891-48f2-8499-affefe681335",
   "metadata": {
    "tags": []
   },
   "source": [
    "Dictionary methods\n",
    "dict.clear() - Remove all the elements from the dictionary\n",
    "\n",
    "dict.copy() - Returns a copy of the dictionary\n",
    "\n",
    "dict.get(key, default = “None”) - Returns the value of specified key\n",
    "\n",
    "dict.items() - Returns a list containing a tuple for each key value pair\n",
    "\n",
    "dict.keys() - Returns a list containing dictionary’s keys\n",
    "\n",
    "dict.update(dict2) - Updates dictionary with specified key-value pairs\n",
    "\n",
    "dict.values() - Returns a list of all the values of dictionary\n",
    "\n",
    "pop() - Remove the element with specified key\n",
    "\n",
    "popItem() - Removes the last inserted key-value pair\n",
    "\n",
    "dict.setdefault(key,default= “None”) - set the key to the default value if the key is not specified in the dictionary\n",
    "\n",
    "dict.has_key(key) - returns true if the dictionary contains the specified key.\n",
    "\n",
    "dict.get(key, default = “None”) - used to get the value specified for the passed key.\n",
    "\n",
    "Iterating through a dictionary\n",
    "You can iterate through the keys, values, or key-value pairs of a dictionary using loops:\n",
    "\n"
   ]
  },
  {
   "cell_type": "code",
   "execution_count": 6,
   "id": "ad6d3a01-264d-4daf-bbf9-183902e7bad6",
   "metadata": {
    "tags": []
   },
   "outputs": [
    {
     "name": "stdout",
     "output_type": "stream",
     "text": [
      "name age gender \n",
      "\n",
      "Rose 24 Female \n",
      "\n",
      "name Rose age 24 gender Female "
     ]
    }
   ],
   "source": [
    "my_dict = {'name':'Rose','age':24, 'gender':'Female'}\n",
    "for key in my_dict:\n",
    "    print(key, end=' ')\n",
    "print('\\n')\n",
    "# Iterating through values\n",
    "for value in my_dict.values():\n",
    "    print(value, end=' ')\n",
    "print('\\n')\n",
    "# Iterating through key-value pairs\n",
    "for key, value in my_dict.items():\n",
    "    print(key, value, end = ' ')"
   ]
  },
  {
   "cell_type": "code",
   "execution_count": null,
   "id": "39f98d6c-5a4e-44fb-b1b9-977488f0e136",
   "metadata": {},
   "outputs": [],
   "source": []
  }
 ],
 "metadata": {
  "kernelspec": {
   "display_name": "Python 3 (ipykernel)",
   "language": "python",
   "name": "python3"
  },
  "language_info": {
   "codemirror_mode": {
    "name": "ipython",
    "version": 3
   },
   "file_extension": ".py",
   "mimetype": "text/x-python",
   "name": "python",
   "nbconvert_exporter": "python",
   "pygments_lexer": "ipython3",
   "version": "3.11.5"
  }
 },
 "nbformat": 4,
 "nbformat_minor": 5
}
