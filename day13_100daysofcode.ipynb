{
 "cells": [
  {
   "cell_type": "markdown",
   "id": "5883323f-5861-46dd-8a80-c060bca251ef",
   "metadata": {},
   "source": [
    "Multidimensional Dictionary\n",
    "\n",
    "Multidimensional dictionary in Python is a dictionary that contains other dictionaries as values. Each level of nesting represents a different dimension in the data structure.\n",
    "\n"
   ]
  },
  {
   "cell_type": "code",
   "execution_count": 2,
   "id": "19dd6cc7-d6bc-4ceb-ab55-e845fe4c3e03",
   "metadata": {
    "tags": []
   },
   "outputs": [],
   "source": [
    "#Example of multidimensional dictionary:\n",
    "\n",
    "multidimensional_dict = {\n",
    "        'first_level': {\n",
    "             'second_level_1': {\n",
    "                     'third_level_1': 1,\n",
    "                     'third_level_2': 2\n",
    "               },\n",
    "        'second_level_2': {\n",
    "                    'third_level_3': 3,\n",
    "                    'third_level_4': 4\n",
    "                   }\n",
    "              },\n",
    " 'another_first_level': {\n",
    "                'second_level_3': {\n",
    "                             'third_level_5': 5,\n",
    "                             'third_level_6': 6\n",
    "                             },\n",
    "              'second_level_4': {\n",
    "                            'third_level_7': 7,\n",
    "                            'third_level_8': 8\n",
    "                    }\n",
    "             }\n",
    "        }\n",
    "#Here, we have a dictionary where each key maps to another dictionary, creating a hierarchy with multiple levels."
   ]
  },
  {
   "cell_type": "markdown",
   "id": "74764d89-7c45-4081-b169-b38c2c10da2b",
   "metadata": {},
   "source": [
    "\n",
    "\n",
    "Accessing Values in a Multidimensional Dictionary:\n",
    "To access a value in a multidimensional dictionary, you can use multiple square brackets for each level:\n",
    "\n",
    "#taking above example dictionary \n"
   ]
  },
  {
   "cell_type": "code",
   "execution_count": 3,
   "id": "5dc18aca-9b73-42ae-ae39-84b2502ed060",
   "metadata": {
    "tags": []
   },
   "outputs": [
    {
     "name": "stdout",
     "output_type": "stream",
     "text": [
      "2\n"
     ]
    }
   ],
   "source": [
    "value = multidimensional_dict['first_level']['second_level_1']['third_level_2']\n",
    "print(value) "
   ]
  },
  {
   "cell_type": "markdown",
   "id": "2ff6e72f-0deb-4310-b893-791008ec7090",
   "metadata": {},
   "source": [
    "Adding new level to existing Dictionary\n",
    "We can add new level in the multidimensional dictionary in the following way:\n",
    "\n"
   ]
  },
  {
   "cell_type": "code",
   "execution_count": 4,
   "id": "283da8da-f8a5-44ff-9eef-dab5f5629791",
   "metadata": {
    "tags": []
   },
   "outputs": [
    {
     "name": "stdout",
     "output_type": "stream",
     "text": [
      "{'first_level': {'second_level_1': {'third_level_1': 1, 'third_level_2': 2}, 'second_level_2': {'third_level_3': 3, 'third_level_4': 4}}, 'another_first_level': {'second_level_3': {'third_level_5': 5, 'third_level_6': 6}, 'second_level_4': {'third_level_7': 7, 'third_level_8': 8}}, 'new_first_level': {'new_second_level': {'new_third_level': 100}}}\n"
     ]
    }
   ],
   "source": [
    "multidimensional_dict['new_first_level'] = {'new_second_level': {'new_third_level': 100}}\n",
    "print(multidimensional_dict)"
   ]
  },
  {
   "cell_type": "markdown",
   "id": "64563c83-9ade-4e40-83df-abc1376959af",
   "metadata": {
    "tags": []
   },
   "source": [
    "Iterating over multidimensional Dictionary\n",
    "To iterate over multidimensional Dictionary you can use nested loops.\n",
    "\n"
   ]
  },
  {
   "cell_type": "code",
   "execution_count": 6,
   "id": "2e59e00b-a66b-416d-a4d4-45a3aff95977",
   "metadata": {
    "tags": []
   },
   "outputs": [
    {
     "name": "stdout",
     "output_type": "stream",
     "text": [
      "First Level Key: first_level\n",
      "  Second Level Key: second_level_1\n",
      "    Third Level Key: third_level_1, Value: 1\n",
      "    Third Level Key: third_level_2, Value: 2\n",
      "  Second Level Key: second_level_2\n",
      "    Third Level Key: third_level_3, Value: 3\n",
      "    Third Level Key: third_level_4, Value: 4\n",
      "First Level Key: another_first_level\n",
      "  Second Level Key: second_level_3\n",
      "    Third Level Key: third_level_5, Value: 5\n",
      "    Third Level Key: third_level_6, Value: 6\n",
      "  Second Level Key: second_level_4\n",
      "    Third Level Key: third_level_7, Value: 7\n",
      "    Third Level Key: third_level_8, Value: 8\n",
      "First Level Key: new_first_level\n",
      "  Second Level Key: new_second_level\n",
      "    Third Level Key: new_third_level, Value: 100\n"
     ]
    }
   ],
   "source": [
    "for first_level_key, second_level_dict in multidimensional_dict.items():\n",
    "    print(f\"First Level Key: {first_level_key}\")\n",
    "    \n",
    "    for second_level_key, third_level_dict in second_level_dict.items():\n",
    "        print(f\"  Second Level Key: {second_level_key}\")\n",
    "        \n",
    "        for third_level_key, value in third_level_dict.items():\n",
    "            print(f\"    Third Level Key: {third_level_key}, Value: {value}\")"
   ]
  },
  {
   "cell_type": "markdown",
   "id": "045ffeb7-62c3-4e85-b46b-0ee4535a51f5",
   "metadata": {
    "tags": []
   },
   "source": [
    "Application of multidimensional Dictionary\n",
    "1. Configuration Settings: Representing configuration settings where each setting category has various parameters.\n",
    "\n",
    "2. Tree Structures: Representing hierarchical structures such as organizational charts.\n",
    "\n",
    "3. Nested Data: Storing data with a hierarchical relationship, where each level provides more specific information.\n",
    "\n"
   ]
  },
  {
   "cell_type": "markdown",
   "id": "74584fef-2f3d-4d06-bd92-fe8bba515dac",
   "metadata": {},
   "source": [
    "Problem Statement- Counting Word Frequencies in text corpus"
   ]
  },
  {
   "cell_type": "code",
   "execution_count": null,
   "id": "5ce761d6-b4d4-4ed7-8eb3-3d8496ca3e44",
   "metadata": {},
   "outputs": [],
   "source": []
  }
 ],
 "metadata": {
  "kernelspec": {
   "display_name": "Python 3 (ipykernel)",
   "language": "python",
   "name": "python3"
  },
  "language_info": {
   "codemirror_mode": {
    "name": "ipython",
    "version": 3
   },
   "file_extension": ".py",
   "mimetype": "text/x-python",
   "name": "python",
   "nbconvert_exporter": "python",
   "pygments_lexer": "ipython3",
   "version": "3.11.5"
  }
 },
 "nbformat": 4,
 "nbformat_minor": 5
}
