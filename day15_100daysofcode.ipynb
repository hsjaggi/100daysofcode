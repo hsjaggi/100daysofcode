{
 "cells": [
  {
   "cell_type": "markdown",
   "id": "ea58b8cd-cf12-453c-8210-57e158594f7e",
   "metadata": {},
   "source": [
    "## Set and Tuple\n",
    "\n",
    "Sets are a fundamental data type in Python that represent an unordered collection of unique elements. They provide a versatile and efficient way to work with data that requires distinct values.\n",
    "\n",
    "Properties of Set\n",
    "Sets do not allow duplicate elements. Each element in a set must be unique.\n",
    "Sets are unordered, meaning the elements do not have a specific order. Unlike lists, sets do not have indices.\n",
    "Sets are mutable, meaning you can add or remove elements after the set is created.\n",
    "Due to their unordered nature, sets do not support indexing. You cannot access elements by index as you would with lists.\n",
    "Common Set methods\n",
    "Adding Elements:\n",
    "1. add(element):\n",
    "Adds a single element to the set.\n",
    "\n",
    "2. update(iterable):\n",
    "Adds multiple elements from an iterable (e.g., list, tuple)."
   ]
  },
  {
   "cell_type": "code",
   "execution_count": 1,
   "id": "7896dc5d-91c0-4ee4-9fb7-cd0448c90082",
   "metadata": {
    "tags": []
   },
   "outputs": [
    {
     "name": "stdout",
     "output_type": "stream",
     "text": [
      "{1, 2, 3, 4, 5, 6}\n"
     ]
    }
   ],
   "source": [
    "Set={1,2,3,4}\n",
    "Set.add(6)\n",
    "Set.update([4,5,6])\n",
    "print(Set)"
   ]
  },
  {
   "cell_type": "markdown",
   "id": "1559918a-5af9-45ec-8947-1e849ec2a809",
   "metadata": {},
   "source": [
    "Removing Elements:\n",
    "1. remove(element):\n",
    "Removes a specific element from the set. Raises a KeyError if the element is not present.\n",
    "\n",
    "2. discard(element):\n",
    "Removes a specific element from the set if it is present. Does not raise an error if the element is not found.\n",
    "\n",
    "3. pop():\n",
    "Removes and returns an arbitrary element from the set. Raises a KeyError if the set is empty.\n",
    "\n"
   ]
  },
  {
   "cell_type": "code",
   "execution_count": 2,
   "id": "72ab7466-7f39-4b81-ab07-410c2fa4f900",
   "metadata": {
    "tags": []
   },
   "outputs": [
    {
     "name": "stdout",
     "output_type": "stream",
     "text": [
      "{2, 4, 7, 8, 9} Popped element is 1\n"
     ]
    }
   ],
   "source": [
    "Set = {1,2,3, 4,5,7,8,9}\n",
    "Set.remove(5)\n",
    "Set.discard(3)\n",
    "popped_element = Set.pop()\n",
    "print(Set,f\"Popped element is {popped_element}\")"
   ]
  },
  {
   "cell_type": "markdown",
   "id": "f141d86c-8446-4fc4-8321-639e77171212",
   "metadata": {},
   "source": [
    "Set Operations:\n",
    "1. union() or |:\n",
    "Returns a new set containing all unique elements from both sets.\n",
    "\n",
    "2. intersection() or &:\n",
    "Returns a new set containing common elements between two sets.\n",
    "\n",
    "3. difference() or -:\n",
    "Returns a new set with elements in the first set but not in the second set.\n",
    "\n",
    "4. symmetric_difference() or ^:\n",
    "Returns a new set with elements in either set, but not both.\n",
    "\n"
   ]
  },
  {
   "cell_type": "code",
   "execution_count": 3,
   "id": "83dd6f34-5796-4333-b450-a6d3b3a32b76",
   "metadata": {
    "tags": []
   },
   "outputs": [
    {
     "name": "stdout",
     "output_type": "stream",
     "text": [
      "union set : {1, 2, 3, 4, 5, 6, 7, 9}\n",
      "intersection set : {4, 5}\n",
      "difference of sets : {1, 9, 7}\n",
      "symmetric difference : {1, 2, 3, 6, 7, 9}\n"
     ]
    }
   ],
   "source": [
    "set1 = {2, 3, 4, 5, 6}\n",
    "set2 = {4, 5, 7, 9, 1}\n",
    "union_set = set1.union(set2)\n",
    "intersection_set = set1.intersection(set2)\n",
    "difference_set = set2-set1\n",
    "symmeteric_diff = set1 ^ set2\n",
    "print(f\"union set : {union_set}\")\n",
    "print(f\"intersection set : {intersection_set}\")\n",
    "print(f\"difference of sets : {difference_set}\")\n",
    "print(f\"symmetric difference : {symmeteric_diff}\")"
   ]
  },
  {
   "cell_type": "markdown",
   "id": "6749cc96-649b-469e-91a0-6c4375b0a12e",
   "metadata": {},
   "source": [
    "5. Other Methods:\n",
    "(i) clear(): Removes all elements from the set, making it empty.\n",
    "\n",
    "(ii) copy(): Returns a shallow copy of the set.\n",
    "\n",
    "(iii) len(): Returns the number of elements in the set.\n",
    "\n"
   ]
  },
  {
   "cell_type": "code",
   "execution_count": 4,
   "id": "79a536e7-a9dd-4b05-a914-53f8848581d9",
   "metadata": {
    "tags": []
   },
   "outputs": [
    {
     "name": "stdout",
     "output_type": "stream",
     "text": [
      "copy of set  {0, 2, 3, 4, 7, 8}  set length  6\n",
      "Original set  set()\n"
     ]
    }
   ],
   "source": [
    "Set = {2, 3, 4, 7, 8, 0}\n",
    "copy_set = Set.copy()\n",
    "set_length = len(Set)\n",
    "print(\"copy of set \", copy_set,\" set length \", set_length)\n",
    "Set.clear()\n",
    "print(\"Original set \", Set)"
   ]
  },
  {
   "cell_type": "markdown",
   "id": "2596fadd-816d-4f00-895a-3a1c591474b0",
   "metadata": {},
   "source": [
    "(iv) in and not in: Checks for membership in a set.\n",
    "\n"
   ]
  },
  {
   "cell_type": "code",
   "execution_count": 5,
   "id": "3e4bf667-70c3-48aa-958a-c3170d43e6cd",
   "metadata": {
    "tags": []
   },
   "outputs": [
    {
     "name": "stdout",
     "output_type": "stream",
     "text": [
      "5 is in the set\n"
     ]
    }
   ],
   "source": [
    "Set = {2, 4, 5, 7, 8}\n",
    "if 5 in Set:\n",
    "    print(\"5 is in the set\")"
   ]
  },
  {
   "cell_type": "markdown",
   "id": "a2b100e4-488a-4d03-80b5-fe97854db26e",
   "metadata": {},
   "source": [
    "Properties of Tuples\n",
    "Tuples are immutable which means once a tuple is created, you cannot modify its elements. You can't add, remove, or change elements in a tuple.\n",
    "Tuples are ordered, meaning the position of an element in a tuple is preserved.\n",
    "Tuples can contain elements of different data types. You can have integers, strings, floats, and other data types within the same tuple.\n",
    "Access elements of tuples\n",
    "Tuples in Python provide two ways by which we can access the elements of a tuple, using a positive index and using a negative index.\n",
    "\n"
   ]
  },
  {
   "cell_type": "code",
   "execution_count": 6,
   "id": "8631018c-b8fe-49d7-8cf6-6e632e7a3b64",
   "metadata": {
    "tags": []
   },
   "outputs": [
    {
     "name": "stdout",
     "output_type": "stream",
     "text": [
      "5.0 Python\n"
     ]
    }
   ],
   "source": [
    "my_tuple = (2, 4, \"Python\", 5.0, -3)\n",
    "ele_1 = my_tuple[-2] \n",
    "ele_2 = my_tuple[2] \n",
    "print (ele_1, ele_2)"
   ]
  },
  {
   "cell_type": "markdown",
   "id": "a0472500-3016-4d2c-ae7d-08e89ce3dbe4",
   "metadata": {},
   "source": [
    "Tuples Method\n",
    "Tuples have a few built-in methods. However, due to their immutable nature, the number of methods is limited compared to lists.\n",
    "\n",
    "1. count(element):\n",
    "The count method returns the number of occurrences of a specified element in the tuple.\n",
    "\n",
    "2. index(element) :\n",
    "The index method returns the index of the first occurrence of a specified element in the tuple.\n",
    "\n"
   ]
  },
  {
   "cell_type": "code",
   "execution_count": 7,
   "id": "2b61a118-c238-4643-bb7e-a70ec5d3439c",
   "metadata": {
    "tags": []
   },
   "outputs": [
    {
     "name": "stdout",
     "output_type": "stream",
     "text": [
      "index of python: 4, count of 1 : 2\n"
     ]
    }
   ],
   "source": [
    "my_tuple = (1, 3, \"Geeks\", 4.0, \"python\", 1)\n",
    "index= my_tuple.index('python') \n",
    "count = my_tuple.count(1) \n",
    "print (f\"index of python: { index }, count of 1 : {count}\")"
   ]
  },
  {
   "cell_type": "markdown",
   "id": "ef58f2f9-cd5c-4f6f-95e7-f9fc9db77122",
   "metadata": {},
   "source": [
    "3. Tuple Packing and Unpacking:\n",
    "Tuple packing is the process of placing multiple values in a tuple, while tuple unpacking is the process of extracting values from a tuple.\n",
    "\n"
   ]
  },
  {
   "cell_type": "code",
   "execution_count": 8,
   "id": "1ee41ab1-0b21-4ae0-9091-660438ee2f17",
   "metadata": {
    "tags": []
   },
   "outputs": [
    {
     "name": "stdout",
     "output_type": "stream",
     "text": [
      " packed Tuple : (1, 2, 'three'), unpacked tuple a: 1, b: 2, c : three\n"
     ]
    }
   ],
   "source": [
    "packed_tuple = 1, 2, 'three'\n",
    "\n",
    "# Tuple unpacking\n",
    "a, b, c = packed_tuple\n",
    "print (f\" packed Tuple : {packed_tuple}, unpacked tuple a: {a}, b: {b}, c : {c}\")"
   ]
  },
  {
   "cell_type": "markdown",
   "id": "1349e760-0e37-48b8-a910-f11ef2b0b45e",
   "metadata": {},
   "source": [
    "Challenge Galore\n",
    "Problem Statement - Two Sum Problem that returns a tuple of elements equal to given sum."
   ]
  },
  {
   "cell_type": "code",
   "execution_count": null,
   "id": "c7ff8815-8b75-4b49-874e-2e1f93a727ba",
   "metadata": {},
   "outputs": [],
   "source": []
  }
 ],
 "metadata": {
  "kernelspec": {
   "display_name": "Python 3 (ipykernel)",
   "language": "python",
   "name": "python3"
  },
  "language_info": {
   "codemirror_mode": {
    "name": "ipython",
    "version": 3
   },
   "file_extension": ".py",
   "mimetype": "text/x-python",
   "name": "python",
   "nbconvert_exporter": "python",
   "pygments_lexer": "ipython3",
   "version": "3.11.5"
  }
 },
 "nbformat": 4,
 "nbformat_minor": 5
}
