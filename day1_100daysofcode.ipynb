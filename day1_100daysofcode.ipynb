{
 "cells": [
  {
   "cell_type": "markdown",
   "id": "d540cdf8-f762-4ce4-89e5-e4219a245a55",
   "metadata": {},
   "source": [
    "### <div id=\"py\"> Introduction To Python (Basics) </div>"
   ]
  },
  {
   "cell_type": "markdown",
   "id": "3d0320c7-f45c-4c46-9d68-b7250703fa1b",
   "metadata": {
    "tags": []
   },
   "source": [
    "<!-- <img src=\"images/python-logo.png\" alt=\"Python\" style=\"width: 500px;\"/> -->\n",
    "\n",
    "\n",
    "Python is a\n",
    "\n",
    "- general purpose programming language\n",
    "- interpreted, not compiled\n",
    "- both **dynamically typed** _and_ **strongly typed**\n",
    "- supports multiple programming paradigms: object oriented, functional\n",
    "- comes in 2 main versions in use today: 2.7 and 3.x\n"
   ]
  },
  {
   "cell_type": "markdown",
   "id": "1d24780f-3c5b-4b71-b066-d514508f4e4f",
   "metadata": {},
   "source": [
    "\n",
    "\n",
    "## Python's Interactive Console : The Interpreter\n",
    "\n",
    "***\n",
    "- The Python interpreter is a console that allows interactive development\n",
    "- We are currently using the Jupyter notebook, which uses an advanced Python interpreter called IPython\n",
    "- This gives us much more power and flexibility\n",
    "\n",
    "\n",
    "\n",
    "\n",
    "\n",
    "\n"
   ]
  },
  {
   "cell_type": "code",
   "execution_count": 9,
   "id": "59c92a06-a34e-47a1-bb8e-abbae22bb852",
   "metadata": {
    "tags": []
   },
   "outputs": [
    {
     "name": "stdout",
     "output_type": "stream",
     "text": [
      "Hello Data World!\n"
     ]
    }
   ],
   "source": [
    "print(\"Hello Data World!\") # as usual we start with printing helloworld"
   ]
  },
  {
   "cell_type": "markdown",
   "id": "9920e1fb-44a3-4fa9-843d-dd47f9168d6c",
   "metadata": {
    "tags": []
   },
   "source": [
    "\n",
    "\n",
    "# Strings\n",
    "***\n",
    "\n",
    "Strings are used in Python to record text information, such as name. Strings in Python are actually a *sequence*, which basically means Python keeps track of every element in the string as a sequence. For example, Python understands the string \"Python' to be a sequence of letters in a specific order. This means we will be able to use indexing to grab particular letters (like the first letter, or the last letter).\n",
    "\n",
    "\n",
    "This idea of a sequence is an important one in Python and we will touch upon it later on in the future.\n",
    "\n",
    "In this lecture we'll learn about the following:\n",
    "\n",
    "    1.) Creating Strings\n",
    "    2.) Printing Strings\n",
    "    3.) String Indexing and Slicing\n",
    "    4.) String Properties\n",
    "    5.) String Methods\n",
    "    6.) Print Formatting"
   ]
  },
  {
   "cell_type": "markdown",
   "id": "a36227d7-60dd-44d4-a579-62c48c6ad6ee",
   "metadata": {
    "tags": []
   },
   "source": [
    "### Creating a String\n",
    "\n",
    "\n",
    "To create a string in Python you need to use either single quotes or double quotes. For example:"
   ]
  },
  {
   "cell_type": "code",
   "execution_count": 12,
   "id": "019992b2-a31e-4a67-b7ac-6b67683d3441",
   "metadata": {
    "tags": []
   },
   "outputs": [
    {
     "name": "stdout",
     "output_type": "stream",
     "text": [
      "hello\n",
      "\n",
      "This is also a string\n"
     ]
    }
   ],
   "source": [
    "# Single word\n",
    "print('hello')\n",
    "\n",
    "print() # Used to have a line space between two sentences. Try deleting this line & seeing the difference.\n",
    "\n",
    "# Entire phrase \n",
    "print('This is also a string')"
   ]
  },
  {
   "cell_type": "code",
   "execution_count": 13,
   "id": "73bed905-6e0a-4d00-b247-b95051c3d8c6",
   "metadata": {
    "tags": []
   },
   "outputs": [
    {
     "name": "stdout",
     "output_type": "stream",
     "text": [
      "harsohrab singh\n"
     ]
    }
   ],
   "source": [
    "#print your name here\n",
    "print(\"harsohrab singh\")"
   ]
  },
  {
   "cell_type": "markdown",
   "id": "574d5201-e6cb-4ac0-817b-7f320922b924",
   "metadata": {},
   "source": [
    "\n",
    "\n",
    "## Variables : Store your Value in me!\n",
    "***\n",
    "\n",
    "In the code below we begin to explore how we can use a variable to which a string can be assigned. This can be extremely useful in many cases, where you can call the variable instead of typing the string everytime. This not only makes our code clean but it also makes it less redundant. \n",
    "Example syntax to assign a value or expression to a variable,\n",
    "\n",
    "variable_name = value or expression\n",
    "\n",
    "<!-- <img src=\"images/variable.png\" alt=\"Concept-Alert\" style=\"width: 100px;float:left; margin-right:15px\" width=\"300\" height=\"100\"/> -->\n",
    "<br /> \n",
    "\n",
    "Now let's get coding!!. With the below block of code showing how to assign a string to variable."
   ]
  },
  {
   "cell_type": "markdown",
   "id": "5347ef03-8c50-437e-af05-6f96de3de273",
   "metadata": {},
   "source": [
    "\n",
    "\n",
    "### String Indexing\n",
    "We know strings are a sequence, which means Python can use indexes to call parts of the sequence. Let's learn how this works.\n",
    "\n",
    "<!-- <img src=\"images/indexing.png\" alt=\"Concept-Alert\" style=\"width: 100px;float:left; margin-right:15px\" width=\"300\" height=\"200\"/> -->\n",
    "<br /> \n",
    "\n",
    "In Python, we use brackets [] after an object to call its index. We should also note that indexing starts at 0 for Python. Let's create a new object called s and the walk through a few examples of indexing."
   ]
  },
  {
   "cell_type": "code",
   "execution_count": 14,
   "id": "7ac171f4-fc83-4a7a-b9d4-9136b5132915",
   "metadata": {
    "tags": []
   },
   "outputs": [],
   "source": [
    "# Assign s as a string\n",
    "s = 'Hello World'"
   ]
  },
  {
   "cell_type": "code",
   "execution_count": 15,
   "id": "b67d36dc-ef24-430b-a8c9-9e795b468bc7",
   "metadata": {
    "tags": []
   },
   "outputs": [
    {
     "name": "stdout",
     "output_type": "stream",
     "text": [
      "l\n"
     ]
    }
   ],
   "source": [
    "print(s[2])"
   ]
  },
  {
   "cell_type": "code",
   "execution_count": 16,
   "id": "9e36af0f-a67a-47b8-ac2d-2ff1f8f4cc56",
   "metadata": {
    "tags": []
   },
   "outputs": [
    {
     "name": "stdout",
     "output_type": "stream",
     "text": [
      "Hello World\n",
      "\n",
      "H\n",
      "\n",
      "e\n"
     ]
    }
   ],
   "source": [
    "# Print the object\n",
    "print(s) \n",
    "\n",
    "print()  \n",
    "\n",
    "# Show first element (in this case a letter)\n",
    "print(s[0])\n",
    "\n",
    "print()\n",
    "\n",
    "# Show the second element (also a letter)\n",
    "print(s[1])"
   ]
  },
  {
   "cell_type": "markdown",
   "id": "c316ecc6-906f-4c2f-8918-1d27dd821d41",
   "metadata": {
    "tags": []
   },
   "source": [
    "\n",
    "\n",
    "# String Concatenation and Repetition\n",
    "\n",
    "***\n",
    "**String Concatenation** is a process to combine two strings. It is done using the '+' operator. \n",
    "\n",
    "\n",
    "**String Repetition** is a process of repeating a same string multiple times\n",
    "\n",
    "The examples of the above concepts is as follows."
   ]
  },
  {
   "cell_type": "code",
   "execution_count": 18,
   "id": "4ca9146b-686b-45f3-b8c7-ee88531bad56",
   "metadata": {
    "tags": []
   },
   "outputs": [
    {
     "name": "stdout",
     "output_type": "stream",
     "text": [
      "Hello World\n"
     ]
    }
   ],
   "source": [
    "# concatenation (addition)\n",
    "\n",
    "s1 = 'Hello'\n",
    "s2 = \"World\"\n",
    "print(s1 + \" \" + s2)"
   ]
  },
  {
   "cell_type": "code",
   "execution_count": 19,
   "id": "11d7d1f0-7f00-4cb6-8e80-5157c15c8f6a",
   "metadata": {
    "tags": []
   },
   "outputs": [
    {
     "name": "stdout",
     "output_type": "stream",
     "text": [
      "Hello_Hello_Hello_Hello_Hello_\n",
      "----------\n"
     ]
    }
   ],
   "source": [
    "# repetition (multiplication)\n",
    "\n",
    "print(\"Hello_\" * 5)\n",
    "print(\"-\" * 10)"
   ]
  },
  {
   "cell_type": "code",
   "execution_count": 20,
   "id": "a05f06d8-3712-421a-8dd5-8c9374fbb316",
   "metadata": {
    "tags": []
   },
   "outputs": [
    {
     "name": "stdout",
     "output_type": "stream",
     "text": [
      "jaggi jaggi jaggi jaggi jaggi jaggi jaggi jaggi jaggi jaggi \n"
     ]
    }
   ],
   "source": [
    "print(\"jaggi \" * 10)"
   ]
  },
  {
   "cell_type": "code",
   "execution_count": 21,
   "id": "1cf8faa7-1f8d-405e-bead-212756156d78",
   "metadata": {
    "tags": []
   },
   "outputs": [
    {
     "name": "stdout",
     "output_type": "stream",
     "text": [
      "DataDataDataDataDataDataDataDataDataDataDataDataDataDataData\n"
     ]
    }
   ],
   "source": [
    "#Print 'Data' 15 times\n",
    "\n",
    "print('Data' * 15)"
   ]
  },
  {
   "cell_type": "code",
   "execution_count": null,
   "id": "924e3828-10cf-49c2-80f1-9cfdb315b69a",
   "metadata": {},
   "outputs": [],
   "source": []
  }
 ],
 "metadata": {
  "kernelspec": {
   "display_name": "Python 3 (ipykernel)",
   "language": "python",
   "name": "python3"
  },
  "language_info": {
   "codemirror_mode": {
    "name": "ipython",
    "version": 3
   },
   "file_extension": ".py",
   "mimetype": "text/x-python",
   "name": "python",
   "nbconvert_exporter": "python",
   "pygments_lexer": "ipython3",
   "version": "3.11.5"
  }
 },
 "nbformat": 4,
 "nbformat_minor": 5
}
