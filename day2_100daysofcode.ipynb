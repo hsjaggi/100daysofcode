{
 "cells": [
  {
   "cell_type": "markdown",
   "id": "6cf64e4c-9341-4e24-b028-a1a0f8af83fa",
   "metadata": {},
   "source": [
    "# 100 Days of Code"
   ]
  },
  {
   "cell_type": "markdown",
   "id": "a34bf45f-94b6-4cf9-8c08-9b9f01c8023e",
   "metadata": {},
   "source": [
    "### Day2"
   ]
  },
  {
   "cell_type": "code",
   "execution_count": 27,
   "id": "a375ed6d-6f80-495c-8a53-a98ccdfbab36",
   "metadata": {
    "tags": []
   },
   "outputs": [],
   "source": [
    "# variables"
   ]
  },
  {
   "cell_type": "code",
   "execution_count": 28,
   "id": "86ae56a4-8b95-48d8-bfb2-91c657c26429",
   "metadata": {
    "tags": []
   },
   "outputs": [],
   "source": [
    "a = x = y = z = 0"
   ]
  },
  {
   "cell_type": "code",
   "execution_count": 29,
   "id": "69ff54de-a970-486f-9cef-3bcefb53fda3",
   "metadata": {
    "tags": []
   },
   "outputs": [
    {
     "data": {
      "text/plain": [
       "0"
      ]
     },
     "execution_count": 29,
     "metadata": {},
     "output_type": "execute_result"
    }
   ],
   "source": [
    "x"
   ]
  },
  {
   "cell_type": "code",
   "execution_count": 30,
   "id": "97e90233-6b07-4174-ad48-23b083157479",
   "metadata": {
    "tags": []
   },
   "outputs": [],
   "source": [
    "a, x, y, z = 10, 3, 6, 4"
   ]
  },
  {
   "cell_type": "code",
   "execution_count": 31,
   "id": "342d891d-55a7-4806-8303-57e2b27eecc8",
   "metadata": {
    "tags": []
   },
   "outputs": [
    {
     "name": "stdout",
     "output_type": "stream",
     "text": [
      "a10, x3, y6, z4\n"
     ]
    }
   ],
   "source": [
    "print(f'a{a}, x{x}, y{y}, z{z}')"
   ]
  },
  {
   "cell_type": "code",
   "execution_count": 106,
   "id": "b5a1787a-9c2f-4542-813b-e9f14109fe4d",
   "metadata": {
    "tags": []
   },
   "outputs": [
    {
     "data": {
      "text/plain": [
       "[6, 9, 3, 5]"
      ]
     },
     "execution_count": 106,
     "metadata": {},
     "output_type": "execute_result"
    }
   ],
   "source": [
    "data = [6, 9, 3, 5]\n",
    "data"
   ]
  },
  {
   "cell_type": "code",
   "execution_count": 107,
   "id": "eb689a2a-42c0-4ffb-8228-caf5cb861711",
   "metadata": {
    "tags": []
   },
   "outputs": [
    {
     "name": "stdout",
     "output_type": "stream",
     "text": [
      "a6, x9, y3, z5\n"
     ]
    }
   ],
   "source": [
    "a, x, y, z = data\n",
    "print(f'a{a}, x{x}, y{y}, z{z}')"
   ]
  },
  {
   "cell_type": "code",
   "execution_count": 113,
   "id": "65a267a5-51f1-4a93-9db1-959f053da053",
   "metadata": {
    "tags": []
   },
   "outputs": [
    {
     "name": "stdin",
     "output_type": "stream",
     "text": [
      " 21\n"
     ]
    },
    {
     "data": {
      "text/plain": [
       "str"
      ]
     },
     "execution_count": 113,
     "metadata": {},
     "output_type": "execute_result"
    }
   ],
   "source": [
    "# input() : taking input from user \n",
    "# the input is taken in the string format, to use numeric values and perform arithemetic operations\n",
    "# we need to typecast it into int or float depending on the use case.\n",
    "n = input('')\n",
    "type(n)"
   ]
  },
  {
   "cell_type": "code",
   "execution_count": 115,
   "id": "e3c324fa-f257-4066-9af6-bad8cf02dfae",
   "metadata": {
    "tags": []
   },
   "outputs": [
    {
     "name": "stdin",
     "output_type": "stream",
     "text": [
      " 23\n"
     ]
    },
    {
     "data": {
      "text/plain": [
       "int"
      ]
     },
     "execution_count": 115,
     "metadata": {},
     "output_type": "execute_result"
    }
   ],
   "source": [
    "m = int(input())\n",
    "type(m)"
   ]
  },
  {
   "cell_type": "code",
   "execution_count": 145,
   "id": "fae6ecc1-aa6d-487d-a7d7-3e4e75b67a76",
   "metadata": {
    "tags": []
   },
   "outputs": [
    {
     "data": {
      "text/plain": [
       "(8, 10, 4, 2, 6)"
      ]
     },
     "execution_count": 145,
     "metadata": {},
     "output_type": "execute_result"
    }
   ],
   "source": [
    "numbers = (4, 5, 2, 1, 3)\n",
    "lis = []\n",
    "for i in range(len(numbers)):\n",
    "    res = numbers[i] * 2\n",
    "    lis.append(res)\n",
    "tup = tuple(lis)\n",
    "tup"
   ]
  },
  {
   "cell_type": "code",
   "execution_count": 117,
   "id": "050847ef-4b01-4212-babd-cd35e050200d",
   "metadata": {
    "tags": []
   },
   "outputs": [
    {
     "data": {
      "text/plain": [
       "tuple"
      ]
     },
     "execution_count": 117,
     "metadata": {},
     "output_type": "execute_result"
    }
   ],
   "source": [
    "type(tup)"
   ]
  },
  {
   "cell_type": "code",
   "execution_count": 147,
   "id": "4ea54cbc-4e20-40cf-94cc-a6d162998add",
   "metadata": {
    "tags": []
   },
   "outputs": [
    {
     "data": {
      "text/plain": [
       "(8, 10, 4, 2, 6)"
      ]
     },
     "execution_count": 147,
     "metadata": {},
     "output_type": "execute_result"
    }
   ],
   "source": [
    "numbers = list(numbers)\n",
    "tuple(map(lambda num : num*2, numbers))"
   ]
  },
  {
   "cell_type": "code",
   "execution_count": null,
   "id": "3811d24d-7acc-4364-a69d-8a552e279a1f",
   "metadata": {
    "tags": []
   },
   "outputs": [],
   "source": []
  },
  {
   "cell_type": "code",
   "execution_count": 24,
   "id": "b24cc531-72c5-4296-9f5e-af785dd5164b",
   "metadata": {
    "tags": []
   },
   "outputs": [
    {
     "data": {
      "text/plain": [
       "(3, 1, -1, -3, -5, -7, -5, -3, -1)"
      ]
     },
     "execution_count": 24,
     "metadata": {},
     "output_type": "execute_result"
    }
   ],
   "source": [
    "numbers = (3, 1 ,-1, -3 ,-5 ,-7)\n",
    "numbers = list(numbers)\n",
    "\n",
    "ap = numbers[1] - numbers[0]\n",
    "\n",
    "for i in range(3):\n",
    "    if (numbers[0] > numbers[1]):\n",
    "        numbers.append(numbers[-1] - ap)\n",
    "    else:\n",
    "        numbers.append(numbers[-1] + abs(ap))\n",
    "numbers = tuple(numbers)\n",
    "numbers"
   ]
  },
  {
   "cell_type": "code",
   "execution_count": 2,
   "id": "1a3b2db0-461d-43dc-b1b3-ce477397c39e",
   "metadata": {
    "tags": []
   },
   "outputs": [
    {
     "data": {
      "text/plain": [
       "[5, 9, 13, 17, 21]"
      ]
     },
     "execution_count": 2,
     "metadata": {},
     "output_type": "execute_result"
    }
   ],
   "source": [
    "num"
   ]
  },
  {
   "cell_type": "code",
   "execution_count": 7,
   "id": "def289b0-6882-49fb-bc57-5ff850915e2b",
   "metadata": {
    "tags": []
   },
   "outputs": [
    {
     "data": {
      "text/plain": [
       "6"
      ]
     },
     "execution_count": 7,
     "metadata": {},
     "output_type": "execute_result"
    }
   ],
   "source": [
    "len(numbers)"
   ]
  },
  {
   "cell_type": "code",
   "execution_count": 9,
   "id": "19dd1e28-c240-407a-89ae-00865c905070",
   "metadata": {
    "tags": []
   },
   "outputs": [
    {
     "data": {
      "text/plain": [
       "[1, 5, 9, 13, 17, 21, 25, 29, 25]"
      ]
     },
     "execution_count": 9,
     "metadata": {},
     "output_type": "execute_result"
    }
   ],
   "source": [
    "numbers = list(numbers)\n",
    "ap = numbers[0] - numbers[1]\n",
    "if (numbers[0] > numbers[1]):\n",
    "    numbers.append(numbers[-1] - ap)\n",
    "else:\n",
    "    numbers.append(numbers[-1] + ap)\n",
    "numbers"
   ]
  },
  {
   "cell_type": "code",
   "execution_count": 18,
   "id": "ad6e79b0-a414-4522-9a5e-d33893b376b3",
   "metadata": {
    "tags": []
   },
   "outputs": [
    {
     "name": "stdout",
     "output_type": "stream",
     "text": [
      "Object `help(abs())` not found.\n"
     ]
    }
   ],
   "source": [
    "?abs()"
   ]
  },
  {
   "cell_type": "code",
   "execution_count": 23,
   "id": "715852d9-da9f-47ab-a6a4-e13ea0212308",
   "metadata": {
    "tags": []
   },
   "outputs": [
    {
     "data": {
      "text/plain": [
       "(5, 9, 13, 17, 21, 25, 29, 33)"
      ]
     },
     "execution_count": 23,
     "metadata": {},
     "output_type": "execute_result"
    }
   ],
   "source": [
    "numbers = (5, 9, 13, 17, 21)\n",
    "t=list(numbers)\n",
    "d=t[1]-t[0]\n",
    "l=len(t)\n",
    "for i in range(3):\n",
    "    t.append(t[l-1]+d)\n",
    "    l+=1\n",
    "numbers=tuple(t)\n",
    "numbers"
   ]
  },
  {
   "cell_type": "code",
   "execution_count": 28,
   "id": "7bb87e10-91e4-41cd-ba45-49a6231dfafc",
   "metadata": {
    "tags": []
   },
   "outputs": [],
   "source": [
    "a = 5\n",
    "b = 9"
   ]
  },
  {
   "cell_type": "code",
   "execution_count": 29,
   "id": "c8193a61-c8fb-410c-a02e-ee8333fad1bd",
   "metadata": {
    "tags": []
   },
   "outputs": [],
   "source": [
    "a, b = b, a"
   ]
  },
  {
   "cell_type": "code",
   "execution_count": 30,
   "id": "e64f5994-b6a6-4b5b-903e-f394e175b52b",
   "metadata": {
    "tags": []
   },
   "outputs": [
    {
     "data": {
      "text/plain": [
       "9"
      ]
     },
     "execution_count": 30,
     "metadata": {},
     "output_type": "execute_result"
    }
   ],
   "source": [
    "a"
   ]
  },
  {
   "cell_type": "code",
   "execution_count": 31,
   "id": "4639e07f-c39a-439d-9268-c1c825f5ac10",
   "metadata": {
    "tags": []
   },
   "outputs": [
    {
     "data": {
      "text/plain": [
       "5"
      ]
     },
     "execution_count": 31,
     "metadata": {},
     "output_type": "execute_result"
    }
   ],
   "source": [
    "b"
   ]
  },
  {
   "cell_type": "code",
   "execution_count": 17,
   "id": "ed9c6a9f-c77c-4e61-ab47-504dea455d5e",
   "metadata": {},
   "outputs": [
    {
     "name": "stdout",
     "output_type": "stream",
     "text": [
      "(1, 1)\n",
      "(1, 2)\n",
      "(1, 3)\n",
      "(1, 4)\n",
      "(1, 5)\n",
      "(1, 6)\n",
      "******\n",
      "(2, 1)\n",
      "(2, 2)\n",
      "(2, 3)\n",
      "(2, 4)\n",
      "(2, 5)\n",
      "(2, 6)\n",
      "******\n",
      "(3, 1)\n",
      "(3, 2)\n",
      "(3, 3)\n",
      "(3, 4)\n",
      "(3, 5)\n",
      "(3, 6)\n",
      "******\n",
      "(4, 1)\n",
      "(4, 2)\n",
      "(4, 3)\n",
      "(4, 4)\n",
      "(4, 5)\n",
      "(4, 6)\n",
      "******\n",
      "(5, 1)\n",
      "(5, 2)\n",
      "(5, 3)\n",
      "(5, 4)\n",
      "(5, 5)\n",
      "(5, 6)\n",
      "******\n",
      "(6, 1)\n",
      "(6, 2)\n",
      "(6, 3)\n",
      "(6, 4)\n",
      "(6, 5)\n",
      "(6, 6)\n",
      "******\n"
     ]
    }
   ],
   "source": [
    "# program to print the combinations of 2 die\n",
    "\n",
    "for i in range(1, 7):\n",
    "    for j in range(1, 7):\n",
    "        print(f\"({i}, {j})\")\n",
    "    print('*'*6)"
   ]
  },
  {
   "cell_type": "code",
   "execution_count": null,
   "id": "65a3f0d2-e167-4020-bf16-d2d3b97936b5",
   "metadata": {
    "tags": []
   },
   "outputs": [],
   "source": [
    "# similarly if you have 3 die\n",
    "count = 0\n",
    "for i in range(1, 7):\n",
    "    for j in range(1, 7):\n",
    "        for k in range(1, 7):\n",
    "            print(f\"({i}, {j}, {k})\")\n",
    "            count += 1\n",
    "        print('*'*9)\n",
    "print(count)\n"
   ]
  },
  {
   "cell_type": "code",
   "execution_count": 24,
   "id": "78d39695-345e-42d3-a6b6-b2062375b26f",
   "metadata": {
    "tags": []
   },
   "outputs": [
    {
     "name": "stdout",
     "output_type": "stream",
     "text": [
      "(1, 5)\n",
      "(2, 4)\n",
      "(3, 3)\n",
      "(4, 2)\n",
      "(5, 1)\n",
      "******\n"
     ]
    }
   ],
   "source": [
    "# the sum of pair after rolling 2 die should be 6 \n",
    "for i in range(1, 7):\n",
    "    for j in range(1, 7):\n",
    "        if (i + j == 6):\n",
    "            print(f\"({i}, {j})\")\n",
    "print('*'*6)"
   ]
  },
  {
   "cell_type": "code",
   "execution_count": 26,
   "id": "8da36d3d-4f6c-4049-b86e-8571cf6c047d",
   "metadata": {
    "tags": []
   },
   "outputs": [
    {
     "name": "stdout",
     "output_type": "stream",
     "text": [
      "(1, 5)\n",
      "(2, 4)\n",
      "(3, 3)\n",
      "(4, 2)\n",
      "(5, 1)\n",
      "******\n",
      "13.89\n"
     ]
    }
   ],
   "source": [
    "# program to find the probability of getting a sum of pair say 5 :(1,4) (4,1)... number of such pairs divided by total pairs\n",
    "count = 0\n",
    "for i in range(1, 7):\n",
    "    for j in range(1, 7):\n",
    "        if (i + j == 6):\n",
    "            print(f\"({i}, {j})\")\n",
    "            count+=1\n",
    "print('*'*6)\n",
    "prob = (count/36)*100\n",
    "print(round(prob,2))"
   ]
  },
  {
   "cell_type": "code",
   "execution_count": 48,
   "id": "afaa6534-3162-4286-b976-f8038d628a99",
   "metadata": {
    "tags": []
   },
   "outputs": [
    {
     "name": "stdout",
     "output_type": "stream",
     "text": [
      "Welcome to Probability 101\n",
      "\n",
      "Here we will see the probability of getting a number from 1 to 12 as a sum of 2 die after they have been rolled\n",
      "\n"
     ]
    },
    {
     "name": "stdin",
     "output_type": "stream",
     "text": [
      "Enter the number of die 2\n"
     ]
    },
    {
     "name": "stdout",
     "output_type": "stream",
     "text": [
      "probability of getting 1 -> 0.0\n",
      "probability of getting 2 -> 2.78\n",
      "probability of getting 3 -> 5.56\n",
      "probability of getting 4 -> 8.33\n",
      "probability of getting 5 -> 11.11\n",
      "probability of getting 6 -> 13.89\n",
      "probability of getting 7 -> 16.67\n",
      "probability of getting 8 -> 13.89\n",
      "probability of getting 9 -> 11.11\n",
      "probability of getting 10 -> 8.33\n",
      "probability of getting 11 -> 5.56\n",
      "probability of getting 12 -> 2.78\n"
     ]
    }
   ],
   "source": [
    "# program to find the probablity of getting a number(from sum of pair of 2 die) from (1 min though not possible since 1,1 will give 2) \n",
    "# to 12(max - 6,6)\n",
    "print('Welcome to Probability 101')\n",
    "print('')\n",
    "print('Here we will see the probability of getting a number from 1 to 12 as a sum of 2 die after they have been rolled')\n",
    "print('')\n",
    "no_of_die = int(input('Enter the number of die'))\n",
    "total_possible_outcomes = 6**no_of_die  \n",
    "max_possible_outcome = 6 * no_of_die\n",
    "for n in range(1, max_possible_outcome + 1):\n",
    "    count = 0\n",
    "    for i in range(1, 7):\n",
    "        for j in range(1, 7):\n",
    "            if (i + j == n):\n",
    "                count += 1\n",
    "    prob = (count/total_possible_outcomes)*100\n",
    "    print('probability of getting', n, '->', round(prob,2))"
   ]
  },
  {
   "cell_type": "code",
   "execution_count": 50,
   "id": "ef6479ad-4e24-4251-9a5b-22411de20ca8",
   "metadata": {
    "tags": []
   },
   "outputs": [
    {
     "name": "stdout",
     "output_type": "stream",
     "text": [
      "Welcome to Probability 102\n",
      "\n",
      "Here we will see the probability of getting a number from 1 to 18 as a sum of 3 die after they have been rolled\n",
      "\n"
     ]
    },
    {
     "name": "stdin",
     "output_type": "stream",
     "text": [
      "Enter the number of die 3\n"
     ]
    },
    {
     "name": "stdout",
     "output_type": "stream",
     "text": [
      "probability of getting 1 -> 0.0\n",
      "probability of getting 2 -> 0.0\n",
      "probability of getting 3 -> 0.46\n",
      "probability of getting 4 -> 1.39\n",
      "probability of getting 5 -> 2.78\n",
      "probability of getting 6 -> 4.63\n",
      "probability of getting 7 -> 6.94\n",
      "probability of getting 8 -> 9.72\n",
      "probability of getting 9 -> 11.57\n",
      "probability of getting 10 -> 12.5\n",
      "probability of getting 11 -> 12.5\n",
      "probability of getting 12 -> 11.57\n",
      "probability of getting 13 -> 9.72\n",
      "probability of getting 14 -> 6.94\n",
      "probability of getting 15 -> 4.63\n",
      "probability of getting 16 -> 2.78\n",
      "probability of getting 17 -> 1.39\n",
      "probability of getting 18 -> 0.46\n"
     ]
    }
   ],
   "source": [
    "print('Welcome to Probability 102')\n",
    "print('')\n",
    "print('Here we will see the probability of getting a number from 1 to 18 as a sum of 3 die after they have been rolled')\n",
    "print('')\n",
    "no_of_die = int(input('Enter the number of die'))\n",
    "faces_of_die = 6\n",
    "total_possible_outcomes = 6**no_of_die  \n",
    "max_possible_outcome = 6 * no_of_die\n",
    "for n in range(1, max_possible_outcome + 1):\n",
    "    count = 0\n",
    "    for i in range(1, faces_of_die + 1):\n",
    "        for j in range(1, faces_of_die + 1):\n",
    "            for k in range(1, faces_of_die + 1):\n",
    "                if (i + j + k == n):\n",
    "                    count += 1\n",
    "    prob = (count/total_possible_outcomes)*100\n",
    "    print('probability of getting', n, '->', round(prob,2))"
   ]
  },
  {
   "cell_type": "code",
   "execution_count": 59,
   "id": "03f34877-f38e-48e7-89e2-0331471315d8",
   "metadata": {
    "tags": []
   },
   "outputs": [
    {
     "name": "stdout",
     "output_type": "stream",
     "text": [
      "Welcome to Probability 102\n",
      "\n",
      "Here we will see the probability of getting a number from 1 to 18 as a sum of 3 dice after they have been rolled\n",
      "\n"
     ]
    },
    {
     "name": "stdin",
     "output_type": "stream",
     "text": [
      "Enter the number of dice:  3\n"
     ]
    },
    {
     "name": "stdout",
     "output_type": "stream",
     "text": [
      "Probability of getting 1 -> 0.0\n",
      "Probability of getting 2 -> 0.0\n",
      "Probability of getting 3 -> 0.46\n",
      "Probability of getting 4 -> 1.39\n",
      "Probability of getting 5 -> 2.78\n",
      "Probability of getting 6 -> 4.63\n",
      "Probability of getting 7 -> 6.94\n",
      "Probability of getting 8 -> 9.72\n",
      "Probability of getting 9 -> 11.57\n",
      "Probability of getting 10 -> 12.5\n",
      "Probability of getting 11 -> 12.5\n",
      "Probability of getting 12 -> 11.57\n",
      "Probability of getting 13 -> 9.72\n",
      "Probability of getting 14 -> 6.94\n",
      "Probability of getting 15 -> 4.63\n",
      "Probability of getting 16 -> 2.78\n",
      "Probability of getting 17 -> 1.39\n",
      "Probability of getting 18 -> 0.46\n",
      "\n"
     ]
    },
    {
     "data": {
      "image/png": "[encoded data removed]",
      "text/plain": [
       "<Figure size 1000x600 with 1 Axes>"
      ]
     },
     "metadata": {},
     "output_type": "display_data"
    }
   ],
   "source": [
    "import matplotlib.pyplot as plt\n",
    "\n",
    "print('Welcome to Probability 102')\n",
    "print('')\n",
    "print('Here we will see the probability of getting a number from 1 to 18 as a sum of 3 dice after they have been rolled')\n",
    "print('')\n",
    "no_of_die = int(input('Enter the number of dice: '))\n",
    "faces_of_die = 6\n",
    "total_possible_outcomes = 6**no_of_die\n",
    "max_possible_outcome = 6 * no_of_die\n",
    "\n",
    "# Lists to store the x-axis (numbers) and y-axis (probabilities)\n",
    "numbers = list(range(1, max_possible_outcome + 1))\n",
    "probabilities = []\n",
    "\n",
    "# Calculate probabilities and store them in the 'probabilities' list\n",
    "for n in range(1, max_possible_outcome + 1):\n",
    "    count = 0\n",
    "    for i in range(1, faces_of_die + 1):\n",
    "        for j in range(1, faces_of_die + 1):\n",
    "            for k in range(1, faces_of_die + 1):\n",
    "                if (i + j + k == n):\n",
    "                    count += 1\n",
    "    prob = (count / total_possible_outcomes) * 100\n",
    "    probabilities.append(round(prob, 2))\n",
    "    print('Probability of getting', n, '->', round(prob, 2))\n",
    "print('')\n",
    "\n",
    "# Plotting the graph using a line plot\n",
    "plt.figure(figsize=(10, 6))\n",
    "plt.plot(numbers, probabilities, marker='o', linestyle='-', color='green')\n",
    "plt.title('Probability Distribution of Sums with Three Die')\n",
    "plt.xlabel('Sum of Three Dice')\n",
    "plt.ylabel('Probability (%)')\n",
    "plt.grid(True)\n",
    "plt.show()\n"
   ]
  },
  {
   "cell_type": "code",
   "execution_count": 63,
   "id": "c00e86a6-d00a-4cb0-a0c9-0740c23275d5",
   "metadata": {
    "tags": []
   },
   "outputs": [
    {
     "name": "stdin",
     "output_type": "stream",
     "text": [
      "Enter the number:  53242\n"
     ]
    },
    {
     "data": {
      "text/plain": [
       "24235"
      ]
     },
     "execution_count": 63,
     "metadata": {},
     "output_type": "execute_result"
    }
   ],
   "source": [
    "# program to reverse a number using tpyecasting\n",
    "\n",
    "num = int(input('Enter the number: '))\n",
    "s = str(num)\n",
    "s = s[::-1]\n",
    "num = int(s)\n",
    "num"
   ]
  },
  {
   "cell_type": "code",
   "execution_count": 83,
   "id": "2fd92065-4ab9-4fa8-bd17-fb1e6e2b2350",
   "metadata": {
    "tags": []
   },
   "outputs": [
    {
     "name": "stdin",
     "output_type": "stream",
     "text": [
      "Enter the number you want to reverse:  4342\n"
     ]
    },
    {
     "data": {
      "text/plain": [
       "2434"
      ]
     },
     "execution_count": 83,
     "metadata": {},
     "output_type": "execute_result"
    }
   ],
   "source": [
    "#Qn program to reverse a number using while loop\n",
    "n = int(input('Enter the number you want to reverse: '))\n",
    "reversed_num = 0\n",
    "\n",
    "while n != 0:\n",
    "    rem = n % 10\n",
    "    n = n // 10\n",
    "    reversed_num = reversed_num * 10 + rem\n",
    "reversed_num"
   ]
  },
  {
   "cell_type": "markdown",
   "id": "e39d7934-3398-42d9-a809-0125a3a78117",
   "metadata": {
    "tags": []
   },
   "source": [
    "### Short Hand if-else statement\n",
    "#### This can be used to write the if-else statements in a single line where only one statement is needed in both the if and else blocks.\n",
    "\n",
    "### Syntax:\n",
    "\n",
    "#### statement_when_True if condition else statement_when_False\n"
   ]
  },
  {
   "cell_type": "code",
   "execution_count": 85,
   "id": "407adf05-cac5-488c-a274-ee1f7e27386e",
   "metadata": {
    "tags": []
   },
   "outputs": [
    {
     "name": "stdout",
     "output_type": "stream",
     "text": [
      "True\n"
     ]
    }
   ],
   "source": [
    "i = 10\n",
    "print(True) if i < 15 else print(False)"
   ]
  },
  {
   "cell_type": "markdown",
   "id": "a363b87f-01ba-4166-92a7-69e533f46f9a",
   "metadata": {},
   "source": [
    "Problem Statement - Write a program that determines whether a year is a leap year or not. In the Gregorian calendar, a leap year occurs every four years to compensate for the fact that the Earth's orbit around the Sun takes approximately 365.25 days."
   ]
  },
  {
   "cell_type": "code",
   "execution_count": 90,
   "id": "922eecb5-fd2b-4a1d-a4b1-8fd62d030e47",
   "metadata": {
    "tags": []
   },
   "outputs": [
    {
     "name": "stdin",
     "output_type": "stream",
     "text": [
      "True 2024\n"
     ]
    },
    {
     "name": "stdout",
     "output_type": "stream",
     "text": [
      "Leap Year\n"
     ]
    }
   ],
   "source": [
    "days = 365\n",
    "\n",
    "year = int(input(year % 4 == 0 and year % 100 != 0) or (year % 400 == 0))\n",
    "if (year % 4 == 0):\n",
    "    print('Leap Year')\n",
    "else:\n",
    "    print('Not a Leap year')"
   ]
  },
  {
   "cell_type": "markdown",
   "id": "2fc8aaba-fad4-4859-a28f-5d2e0d2e4ffd",
   "metadata": {
    "tags": []
   },
   "source": [
    "Enumerate using For loop:\n",
    "\n",
    "The enumerate() function is handy for obtaining both the index and value during iteration:"
   ]
  },
  {
   "cell_type": "code",
   "execution_count": 94,
   "id": "6add2a37-cefd-477f-a297-3e94cff52fd3",
   "metadata": {
    "tags": []
   },
   "outputs": [
    {
     "name": "stdout",
     "output_type": "stream",
     "text": [
      "Index: 0, Subj: Data-Science\n",
      "Index: 1, Subj: Power BI\n",
      "Index: 2, Subj: Python\n"
     ]
    }
   ],
   "source": [
    "list1 = [\"Data-Science\", \"Power BI\", \"Python\"]\n",
    "\n",
    "for index, subject in enumerate(list1):\n",
    "    print(f\"Index: {index}, Subj: {subject}\")"
   ]
  },
  {
   "cell_type": "markdown",
   "id": "66610556-1331-4a6e-a2a1-7eef5ab9c384",
   "metadata": {},
   "source": [
    "***********************\n",
    "\n",
    "List Comprehensions:\n",
    "\n",
    "List comprehensions provide a concise way to create lists using for loops:\n"
   ]
  },
  {
   "cell_type": "code",
   "execution_count": 96,
   "id": "4fe353dd-c9fe-4152-af34-532321f7b2f0",
   "metadata": {
    "tags": []
   },
   "outputs": [
    {
     "name": "stdout",
     "output_type": "stream",
     "text": [
      "[0, 1, 4, 9, 16]\n"
     ]
    }
   ],
   "source": [
    "squares = [x**2 for x in range(5)]\n",
    "print(squares)"
   ]
  },
  {
   "cell_type": "markdown",
   "id": "f7fba4d6-1278-4e42-a6f4-7cc5e94fe701",
   "metadata": {},
   "source": [
    "This does the same as below code."
   ]
  },
  {
   "cell_type": "code",
   "execution_count": 102,
   "id": "55dc720a-9d33-4709-96bd-352fac014473",
   "metadata": {
    "tags": []
   },
   "outputs": [
    {
     "name": "stdout",
     "output_type": "stream",
     "text": [
      "[0, 1, 4, 9, 16]\n"
     ]
    }
   ],
   "source": [
    "squares = []\n",
    "for x in range(5):\n",
    "    squares.append(x**2)\n",
    "print(squares)"
   ]
  },
  {
   "cell_type": "markdown",
   "id": "ea202047-a4d6-41e0-b4ab-d18e8c96e06e",
   "metadata": {},
   "source": [
    "****************\n",
    "Challenge Galore:\n",
    "\n",
    "Problem Statement - Write a program checking whether a number is an Armstrong number. An Armstrong number (also known as a narcissistic number, pluperfect digital invariant, or pluperfect number) is a number that is the sum of its own digits each raised to the power of the number of digits.\n",
    "\n",
    "For example, 153 is an Armstrong number because 1^3 + 5^3 + 3^3 = 153"
   ]
  },
  {
   "cell_type": "code",
   "execution_count": 112,
   "id": "78c2d0e5-c963-444e-8b5a-5faf063eb30a",
   "metadata": {
    "tags": []
   },
   "outputs": [
    {
     "name": "stdout",
     "output_type": "stream",
     "text": [
      "36\n",
      "Not an Armstrong Number\n",
      "684\n",
      "Not an Armstrong Number\n",
      "216\n",
      "Not an Armstrong Number\n"
     ]
    }
   ],
   "source": [
    "n = 153\n",
    "num = str(n)\n",
    "for i in range(len(num)):\n",
    "    \n",
    "        print('Armstrong Number')\n",
    "    else:\n",
    "        print('Not an Armstrong Number')"
   ]
  },
  {
   "cell_type": "code",
   "execution_count": 110,
   "id": "833f4f7c-98c6-4669-96c0-e4e842ccb565",
   "metadata": {
    "tags": []
   },
   "outputs": [],
   "source": [
    "num = 153"
   ]
  },
  {
   "cell_type": "code",
   "execution_count": 113,
   "id": "3ec79731-9b48-4d71-b555-b44573b2b62d",
   "metadata": {
    "tags": []
   },
   "outputs": [
    {
     "data": {
      "text/plain": [
       "3"
      ]
     },
     "execution_count": 113,
     "metadata": {},
     "output_type": "execute_result"
    }
   ],
   "source": [
    "len(num)"
   ]
  },
  {
   "cell_type": "code",
   "execution_count": null,
   "id": "5ee89a3d-83ff-4a7c-bbf6-9bc99f36a93c",
   "metadata": {},
   "outputs": [],
   "source": []
  }
 ],
 "metadata": {
  "kernelspec": {
   "display_name": "Python 3 (ipykernel)",
   "language": "python",
   "name": "python3"
  },
  "language_info": {
   "codemirror_mode": {
    "name": "ipython",
    "version": 3
   },
   "file_extension": ".py",
   "mimetype": "text/x-python",
   "name": "python",
   "nbconvert_exporter": "python",
   "pygments_lexer": "ipython3",
   "version": "3.11.5"
  }
 },
 "nbformat": 4,
 "nbformat_minor": 5
}
