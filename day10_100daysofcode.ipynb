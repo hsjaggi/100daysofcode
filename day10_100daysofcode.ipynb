{
 "cells": [
  {
   "cell_type": "markdown",
   "id": "9a1fffcb-95cb-4dc1-bf4e-ca64fd89ad78",
   "metadata": {
    "tags": []
   },
   "source": [
    "## Multidimensional List\n",
    "\n",
    "A multidimensional list is basically a list of lists in python, each inner list represents the row or column inside the list. There can be more than one dimensions to a list.\n",
    "\n",
    "Accessing elements of list\n",
    "Let's take a example of a list L1= [ [1, 2, 3, 5], [4, 6, 7, 9], [8, 10, 11, 13] ]\n",
    "\n",
    "Accessing elements in a multidimensional list involves using double indexing. The first index selects the row, and the second index selects the element within that row (or column).\n",
    "\n",
    "\n",
    "                 "
   ]
  },
  {
   "cell_type": "code",
   "execution_count": 2,
   "id": "8448e5a4-5cfb-4353-aafb-51db9aa1a3f3",
   "metadata": {
    "tags": []
   },
   "outputs": [
    {
     "name": "stdout",
     "output_type": "stream",
     "text": [
      "[1, 2, 3, 5] -- [4, 6, 7, 9] -- [8, 10, 11, 13] -- \n",
      "\n",
      "1 , 2 , 3 , 5 , 4 , 6 , 7 , 9 , 8 , 10 , 11 , 13 , "
     ]
    }
   ],
   "source": [
    "List1= [ [1, 2, 3, 5], [4, 6, 7, 9], [8, 10, 11, 13] ]\n",
    "#Accesing the rows of the list\n",
    "for i in List1:\n",
    "  print(i, end = ' -- ')\n",
    "  \n",
    "#Accessing each element of a 2D-list \n",
    "print(\"\\n\")\n",
    "for i in range(len(List1)):\n",
    "  for j in range(len(List1[i])):\n",
    "                 print(List1[i][j], end=\" , \") "
   ]
  },
  {
   "cell_type": "markdown",
   "id": "7400294c-7f7b-4a38-a771-f400ee4c6b19",
   "metadata": {
    "tags": []
   },
   "source": [
    "Methods in multidimensional list\n",
    "Append list in a multidimensional list:\n",
    "Adds an element at the end of the list.\n",
    "\n"
   ]
  },
  {
   "cell_type": "code",
   "execution_count": 4,
   "id": "464caf73-2e18-4b3c-b081-0309b1bfb902",
   "metadata": {
    "tags": []
   },
   "outputs": [
    {
     "name": "stdout",
     "output_type": "stream",
     "text": [
      "[[2, 4, 6, 8, 10], [3, 6, 9, 12, 15], [4, 8, 12, 16, 20], [5, 10, 15, 20, 25]]\n"
     ]
    }
   ],
   "source": [
    "List1 = [[2, 4, 6, 8, 10], [3, 6, 9, 12, 15], [4, 8, 12, 16, 20]] \n",
    "List1.append([5, 10, 15, 20, 25]) \n",
    "print(List1) "
   ]
  },
  {
   "cell_type": "markdown",
   "id": "f473665e-0ace-449e-baaa-878d7eaf76f3",
   "metadata": {
    "tags": []
   },
   "source": [
    "Extend in existing list:\n",
    "Add the elements of a list (or any iterable), to the end of the current list using extend() method.\n",
    "\n"
   ]
  },
  {
   "cell_type": "code",
   "execution_count": 6,
   "id": "d15d27a2-c2d5-473e-8555-7ace04e5c86e",
   "metadata": {
    "tags": []
   },
   "outputs": [
    {
     "name": "stdout",
     "output_type": "stream",
     "text": [
      "[[2, 4, 6, 8, 10, 12, 14, 16, 18], [3, 6, 9, 12, 15], [4, 8, 12, 16, 20]]\n"
     ]
    }
   ],
   "source": [
    "List = [[2, 4, 6, 8, 10], [3, 6, 9, 12, 15], [4, 8, 12, 16, 20]] \n",
    "List[0].extend([12, 14, 16, 18]) \n",
    "print(List)"
   ]
  },
  {
   "cell_type": "markdown",
   "id": "8e854bcc-37aa-4bd2-baac-29ee2e47039a",
   "metadata": {},
   "source": [
    "Reverse a multidimensional list:\n",
    "Reverse the order of the given list by using reverse() method.\n",
    "\n"
   ]
  },
  {
   "cell_type": "code",
   "execution_count": 7,
   "id": "2c0e4d92-10a0-42cb-86b9-1c86b166e89a",
   "metadata": {
    "tags": []
   },
   "outputs": [
    {
     "name": "stdout",
     "output_type": "stream",
     "text": [
      "[[10, 8, 6, 4, 2], [3, 6, 9, 12, 15], [4, 8, 12, 16, 20]]\n"
     ]
    }
   ],
   "source": [
    "List = [[2, 4, 6, 8, 10], [3, 6, 9, 12, 15], [4, 8, 12, 16, 20]] \n",
    "List[0].reverse()\n",
    "print(List)"
   ]
  },
  {
   "cell_type": "markdown",
   "id": "822aa079-9940-4434-a145-be4ac79ca543",
   "metadata": {},
   "source": [
    "Flattening a Multidimensional List:\n",
    "You can flatten a multidimensional list into a 1D list using list comprehension:\n",
    "\n"
   ]
  },
  {
   "cell_type": "code",
   "execution_count": 8,
   "id": "7ebeb826-aa7f-4608-a144-590f79fbf13f",
   "metadata": {
    "tags": []
   },
   "outputs": [
    {
     "name": "stdout",
     "output_type": "stream",
     "text": [
      "[2, 4, 8, 4, 9, 6, 5, 6, 8, 9]\n"
     ]
    }
   ],
   "source": [
    "matrix = [\n",
    "    [2, 4, 8],\n",
    "    [4, 9, 6, 5],\n",
    "    [6, 8, 9]\n",
    "]\n",
    "flattened_list = [element for row in matrix for element in row]\n",
    "print(flattened_list)\n"
   ]
  },
  {
   "cell_type": "markdown",
   "id": "8733936c-08dc-4b90-961a-895849780c4a",
   "metadata": {},
   "source": [
    "Searching in a multidimensional list:\n",
    "You can the position of an element inside a multidimensional list:\n",
    "\n"
   ]
  },
  {
   "cell_type": "code",
   "execution_count": 9,
   "id": "7e3ae7e5-daa4-4ef6-a50e-df9d1d018dcf",
   "metadata": {
    "tags": []
   },
   "outputs": [
    {
     "name": "stdout",
     "output_type": "stream",
     "text": [
      "[(1, 1)]\n"
     ]
    }
   ],
   "source": [
    "matrix = [\n",
    "    [1, 8 , 3],\n",
    "    [7, 5, 6],\n",
    "]\n",
    "element = 5\n",
    "position = [(i, row.index(element)) for i, row in enumerate(matrix) if element in row]\n",
    "print(position)"
   ]
  },
  {
   "cell_type": "markdown",
   "id": "11ad676e-7e0d-48f3-83af-647223041253",
   "metadata": {},
   "source": [
    "\n",
    "Problem Statement - Finding maximum value in a 2 D list.\n"
   ]
  },
  {
   "cell_type": "raw",
   "id": "74e20457-9884-4b01-bf8a-ea65701b7d04",
   "metadata": {
    "tags": []
   },
   "source": [
    "# def find_max_value(matrix):\n",
    "#     max_value = float('-inf') \n",
    "#     for row in matrix:\n",
    "#         max_value = max(max_value, max(row))\n",
    "#     return max_value\n",
    "\n",
    "# matrix = [\n",
    "#     [3, 7, 1, 2],\n",
    "#     [8, 5, 6, 4],\n",
    "#     [2, 1, 8, 9]\n",
    "# ]\n",
    "# max_value = find_max_value(matrix)\n",
    "# print(\"\\nMaximum Value:\", max_value)"
   ]
  },
  {
   "cell_type": "code",
   "execution_count": null,
   "id": "f7e2cc94-1519-442a-92d7-ad062e2c4ccc",
   "metadata": {},
   "outputs": [],
   "source": []
  }
 ],
 "metadata": {
  "kernelspec": {
   "display_name": "Python 3 (ipykernel)",
   "language": "python",
   "name": "python3"
  },
  "language_info": {
   "codemirror_mode": {
    "name": "ipython",
    "version": 3
   },
   "file_extension": ".py",
   "mimetype": "text/x-python",
   "name": "python",
   "nbconvert_exporter": "python",
   "pygments_lexer": "ipython3",
   "version": "3.11.5"
  }
 },
 "nbformat": 4,
 "nbformat_minor": 5
}
