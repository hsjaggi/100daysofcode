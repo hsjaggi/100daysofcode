{
 "cells": [
  {
   "cell_type": "markdown",
   "id": "54af3f04-09e5-46a4-a2c8-5205be5ee336",
   "metadata": {},
   "source": [
    "Strings\n",
    "\n",
    "A String is a data structure in Python that represents a sequence of characters. It is an immutable data type, meaning that once you have created a string, you cannot change it. Strings are used widely in many different applications, such as storing and manipulating text data, representing names, addresses, and other types of data that can be represented as text."
   ]
  },
  {
   "cell_type": "markdown",
   "id": "01961329-7f35-4f9f-b71f-dbddab6b9e1b",
   "metadata": {},
   "source": [
    "String Concatenation\n",
    "String concatenation involves combining multiple strings into a single string using the + operator."
   ]
  },
  {
   "cell_type": "code",
   "execution_count": 1,
   "id": "b3fcfd05-c9f2-4171-be56-45b4ca48b1df",
   "metadata": {
    "tags": []
   },
   "outputs": [
    {
     "name": "stdout",
     "output_type": "stream",
     "text": [
      "Data Science Python\n"
     ]
    }
   ],
   "source": [
    "string1 = \"Python\"\n",
    "string2 = \"Data Science\"\n",
    "concatenated_string = string2 + \" \" + string1\n",
    "print(concatenated_string)"
   ]
  },
  {
   "cell_type": "markdown",
   "id": "1528b6af-3b92-4b02-913d-0232d00c44cf",
   "metadata": {},
   "source": [
    "String Replication\n",
    "String replication is achieved by using '*' operator to create a repeated copies of a string."
   ]
  },
  {
   "cell_type": "code",
   "execution_count": 2,
   "id": "c12f316c-eb02-485e-bcb8-84e1534ed8a8",
   "metadata": {
    "tags": []
   },
   "outputs": [
    {
     "name": "stdout",
     "output_type": "stream",
     "text": [
      "PythonPythonPython\n"
     ]
    }
   ],
   "source": [
    "original_string = \"Python\"\n",
    "replicated_string = original_string * 3\n",
    "print(replicated_string)"
   ]
  },
  {
   "cell_type": "markdown",
   "id": "251bf503-3a0c-478e-8c4d-120a6395183c",
   "metadata": {},
   "source": [
    "String Length\n",
    "The len() function returns the length (number of characters) of a string."
   ]
  },
  {
   "cell_type": "code",
   "execution_count": 3,
   "id": "7326d107-9af7-4657-83fd-ff79037fbf9b",
   "metadata": {
    "tags": []
   },
   "outputs": [
    {
     "name": "stdout",
     "output_type": "stream",
     "text": [
      "19\n"
     ]
    }
   ],
   "source": [
    "String = \"Python is powerful!\"\n",
    "length = len(String)\n",
    "print(length)"
   ]
  },
  {
   "cell_type": "markdown",
   "id": "e32479a8-fcfb-4518-bf22-30405cefd40a",
   "metadata": {},
   "source": [
    "String Slicing\n",
    "In Python, the String Slicing method is used to access a range of characters in the String. Slicing in a String is done by using a Slicing operator, i.e., a colon (:).\n",
    "\n",
    "Note - One thing to keep in mind while using this method is that the string returned after slicing includes the character at the start index but not the character at the last index."
   ]
  },
  {
   "cell_type": "code",
   "execution_count": 4,
   "id": "0ecac856-8fce-49dd-8031-631cdfd0fa5d",
   "metadata": {
    "tags": []
   },
   "outputs": [
    {
     "name": "stdout",
     "output_type": "stream",
     "text": [
      "Slicing characters from 5-12: \n",
      "ForGeek\n",
      "Slicing characters between 3rd and 3rd last character: \n",
      "ksForGe\n"
     ]
    }
   ],
   "source": [
    "# Creating a String \n",
    "String1 = \"GeeksForGeeks\"\n",
    "\n",
    "# Printing 3rd to 12th character \n",
    "print(\"Slicing characters from 5-12: \") \n",
    "print(String1[5:12]) \n",
    "\n",
    "# Printing between 3rd and 2nd last character \n",
    "print(\"Slicing characters between \" +\n",
    "\t\"3rd and 3rd last character: \") \n",
    "print(String1[3:-3]) "
   ]
  },
  {
   "cell_type": "markdown",
   "id": "e98136c6-c9c2-4f0c-a7e5-24400b641593",
   "metadata": {
    "tags": []
   },
   "source": [
    "String Count\n",
    "The count() method counts the number of occurrences of a substring in a string.\n",
    "\n"
   ]
  },
  {
   "cell_type": "code",
   "execution_count": 6,
   "id": "17845b6a-e3fa-4511-b445-8b42a58298e5",
   "metadata": {
    "tags": []
   },
   "outputs": [
    {
     "name": "stdout",
     "output_type": "stream",
     "text": [
      "3\n"
     ]
    }
   ],
   "source": [
    "string = \"python program run on python IDLE, in pythonic way.\"\n",
    "count = string.count(\"python\")\n",
    "print(count)"
   ]
  },
  {
   "cell_type": "markdown",
   "id": "da462858-edcb-4825-b971-11398af86c28",
   "metadata": {
    "tags": []
   },
   "source": [
    "String Find\n",
    "The find() method returns the index of the first occurrence of a substring. If not found, it returns -1.\n",
    "\n"
   ]
  },
  {
   "cell_type": "code",
   "execution_count": 8,
   "id": "2e068cd3-4542-436d-85c2-125f1c6cf0eb",
   "metadata": {
    "tags": []
   },
   "outputs": [
    {
     "name": "stdout",
     "output_type": "stream",
     "text": [
      "0\n",
      "-1\n"
     ]
    }
   ],
   "source": [
    "string = \"Python is powerful and Pythonic.\"\n",
    "index = string.find(\"Python\")\n",
    "print(index) \n",
    "index = string.find(\"python\")\n",
    "print(index)"
   ]
  },
  {
   "cell_type": "markdown",
   "id": "0a56a3ed-8180-49e3-80f6-58e287af89bb",
   "metadata": {
    "tags": []
   },
   "source": [
    "String Formatting\n",
    "Strings in Python can be formatted with the use of format() method which is a very versatile and powerful tool for formatting Strings. Format method in String contains curly braces {} as placeholders which can hold arguments according to position or keyword to specify the order.\n",
    "\n"
   ]
  },
  {
   "cell_type": "code",
   "execution_count": 10,
   "id": "6c43206a-1b7f-4671-9734-5fefac950686",
   "metadata": {
    "tags": []
   },
   "outputs": [
    {
     "name": "stdout",
     "output_type": "stream",
     "text": [
      "Print String in default order: \n",
      "Begineer in Python\n",
      "\n",
      "Print String in Positional order: \n",
      "in Begineer Python\n",
      "\n",
      "Print String in order of Keywords: \n",
      "Python in Begineer\n"
     ]
    }
   ],
   "source": [
    "# Default order \n",
    "String1 = \"{} {} {}\".format('Begineer', 'in', 'Python') \n",
    "print(\"Print String in default order: \") \n",
    "print(String1) \n",
    "\n",
    "# Positional Formatting \n",
    "String1 = \"{1} {0} {2}\".format('Begineer', 'in', 'Python') \n",
    "print(\"\\nPrint String in Positional order: \") \n",
    "print(String1) \n",
    "\n",
    "# Keyword Formatting \n",
    "String1 = \"{l} {f} {g}\".format(g='Begineer', f='in', l='Python') \n",
    "print(\"\\nPrint String in order of Keywords: \") \n",
    "print(String1) "
   ]
  },
  {
   "cell_type": "code",
   "execution_count": null,
   "id": "25bed9b3-48d6-4ab2-86a1-1256a115fe56",
   "metadata": {},
   "outputs": [],
   "source": []
  }
 ],
 "metadata": {
  "kernelspec": {
   "display_name": "Python 3 (ipykernel)",
   "language": "python",
   "name": "python3"
  },
  "language_info": {
   "codemirror_mode": {
    "name": "ipython",
    "version": 3
   },
   "file_extension": ".py",
   "mimetype": "text/x-python",
   "name": "python",
   "nbconvert_exporter": "python",
   "pygments_lexer": "ipython3",
   "version": "3.11.5"
  }
 },
 "nbformat": 4,
 "nbformat_minor": 5
}
