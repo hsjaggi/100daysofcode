{
 "cells": [
  {
   "cell_type": "markdown",
   "id": "0b42a97f-fd8b-4825-96af-f9ffc0c25662",
   "metadata": {},
   "source": [
    "## Dictionary Comprehension\n",
    "\n"
   ]
  },
  {
   "cell_type": "markdown",
   "id": "5947beaa-8f59-4bf4-8757-662cd3a2160c",
   "metadata": {
    "tags": []
   },
   "source": [
    "Python dictionary comprehension is a very useful feature if you want to construct dictionaries in one line of code. We can construct a dictionary using a {key : value} mapping directly from an iterable object like, lists.\n",
    "\n",
    "Syntax :\n",
    "{key_expression: value_expression for item in iterable}\n",
    "\n",
    "Condition in dictionary comprehension\n",
    "We can customize the dictionary comprehension by adding conditions to each of the iterations.\n",
    "\n"
   ]
  },
  {
   "cell_type": "code",
   "execution_count": 2,
   "id": "fd5c13af-78f4-4a26-96a4-14f071655a2a",
   "metadata": {
    "tags": []
   },
   "outputs": [
    {
     "name": "stdout",
     "output_type": "stream",
     "text": [
      "{2: 4, 4: 16, 6: 36, 8: 64, 10: 100}\n"
     ]
    }
   ],
   "source": [
    "# Using dictionary comprehension to create a dictionary of squared even numbers\n",
    "numbers = {x: x**2 for x in range(1, 11) if x % 2 == 0}\n",
    "print(numbers)"
   ]
  },
  {
   "cell_type": "markdown",
   "id": "b13fc426-8622-4f6b-b1ac-88ad1d021896",
   "metadata": {},
   "source": [
    "Creating a dictionary from Lists\n",
    "You can also create dictionary from existing lists, making one of the list as keys and the other as values.\n",
    "\n"
   ]
  },
  {
   "cell_type": "code",
   "execution_count": 3,
   "id": "e0382edc-1ffc-4ae4-a64e-8f4198caaeff",
   "metadata": {
    "tags": []
   },
   "outputs": [
    {
     "name": "stdout",
     "output_type": "stream",
     "text": [
      "{'a': 1, 'b': 2, 'c': 3}\n"
     ]
    }
   ],
   "source": [
    "keys = ['a', 'b', 'c']\n",
    "values = [1, 2, 3]\n",
    "result = {k: v for k, v in zip(keys, values)}\n",
    "print(result)"
   ]
  },
  {
   "cell_type": "markdown",
   "id": "b731b166-6861-4fed-8eca-ebb3e0b7560d",
   "metadata": {
    "tags": []
   },
   "source": [
    "Nested dictionary comprehension\n",
    "You can add dictionary comprehensions to dictionary comprehensions themselves to create nested dictionaries.\n",
    "\n"
   ]
  },
  {
   "cell_type": "code",
   "execution_count": 5,
   "id": "84229603-1d71-4f39-a473-be886ff1b0eb",
   "metadata": {
    "tags": []
   },
   "outputs": [
    {
     "name": "stdout",
     "output_type": "stream",
     "text": [
      "{5: {2: 10, 3: 15, 4: 20, 5: 25}, 6: {2: 12, 3: 18, 4: 24, 5: 30}}\n"
     ]
    }
   ],
   "source": [
    "dictionary = {\n",
    "    k1: {k2: k1 * k2 for k2 in range(2, 6)} for k1 in range(5, 7)\n",
    "}\n",
    "print(dictionary)"
   ]
  },
  {
   "cell_type": "code",
   "execution_count": null,
   "id": "205cec2b-a0b4-4c75-bb2c-af70f0465337",
   "metadata": {},
   "outputs": [],
   "source": []
  }
 ],
 "metadata": {
  "kernelspec": {
   "display_name": "Python 3 (ipykernel)",
   "language": "python",
   "name": "python3"
  },
  "language_info": {
   "codemirror_mode": {
    "name": "ipython",
    "version": 3
   },
   "file_extension": ".py",
   "mimetype": "text/x-python",
   "name": "python",
   "nbconvert_exporter": "python",
   "pygments_lexer": "ipython3",
   "version": "3.11.5"
  }
 },
 "nbformat": 4,
 "nbformat_minor": 5
}
