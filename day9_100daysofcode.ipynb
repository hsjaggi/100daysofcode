{
 "cells": [
  {
   "cell_type": "code",
   "execution_count": null,
   "id": "e5fb320e-7f2e-4f44-863d-7e469a12fbca",
   "metadata": {},
   "outputs": [],
   "source": [
    "While loop\n",
    "\n",
    "The while loop is a control flow statement in Python that repeatedly executes a block of code as long as a specified condition is true, and when the condition becomes false, the line immediately after the loop in the program is executed.\n",
    "\n",
    "Syntax\n",
    "While expression:\n",
    "#statements\n",
    "\n",
    "Flow chart of While loop\n",
    "while\n",
    "\n",
    "![image.png](attachment:f8cc73ef-9da8-4ed7-8205-d95e3e56a14b.png)"
   ]
  },
  {
   "cell_type": "code",
   "execution_count": 1,
   "id": "ea016254-f26b-4ba7-9056-4f119e97c14c",
   "metadata": {
    "tags": []
   },
   "outputs": [
    {
     "name": "stdout",
     "output_type": "stream",
     "text": [
      "2 4 "
     ]
    }
   ],
   "source": [
    "#General use of While loop\n",
    "counter= 2\n",
    "while counter <= 5:\n",
    "    print(counter, end=' ')\n",
    "    counter += 2"
   ]
  },
  {
   "cell_type": "markdown",
   "id": "0c465c9a-1431-4b92-a473-f5a6c0f88ef7",
   "metadata": {
    "tags": []
   },
   "source": [
    "Infinite while Loop:\n",
    "Be cautious when using while loops to avoid unintentional infinite loops. An infinite loop occurs when the condition is always true, leading to continuous execution.\n",
    "\n",
    "Nested While Loop\n",
    "Similar to for loops, while loops can be nested to handle more complex scenarios:\n",
    "\n"
   ]
  },
  {
   "cell_type": "code",
   "execution_count": 6,
   "id": "fcea2e59-749d-4c82-b59e-fec43f8ef906",
   "metadata": {
    "tags": []
   },
   "outputs": [
    {
     "name": "stdout",
     "output_type": "stream",
     "text": [
      "(1, 1) (1, 2) (2, 1) (2, 2) (3, 1) (3, 2) "
     ]
    }
   ],
   "source": [
    "outer_counter = 1\n",
    "while outer_counter <= 3:\n",
    "    inner_counter = 1\n",
    "    while inner_counter <= 2:\n",
    "        print(f\"({outer_counter}, {inner_counter})\", end=' ')\n",
    "        inner_counter += 1\n",
    "    outer_counter += 1"
   ]
  },
  {
   "cell_type": "markdown",
   "id": "e9b7bca1-d501-4ceb-bc54-98e0c2cf5e22",
   "metadata": {
    "tags": []
   },
   "source": [
    "While Loop with continue statement\n",
    "The continue statement allows you to skip the rest of the code inside the loop for the current iteration and move to the next iteration.\n",
    "\n"
   ]
  },
  {
   "cell_type": "code",
   "execution_count": 4,
   "id": "f7509615-1378-4151-afa1-b3d727d768ce",
   "metadata": {
    "tags": []
   },
   "outputs": [
    {
     "name": "stdout",
     "output_type": "stream",
     "text": [
      "1 2 4 5 "
     ]
    }
   ],
   "source": [
    "counter = 1\n",
    "while counter <= 5:\n",
    "    if counter == 3:\n",
    "        counter += 1\n",
    "        continue\n",
    "    print(counter, end=' ')\n",
    "    counter += 1"
   ]
  },
  {
   "cell_type": "code",
   "execution_count": 5,
   "id": "04435424-4254-4d52-87db-b4fed20c0e47",
   "metadata": {
    "tags": []
   },
   "outputs": [
    {
     "ename": "SyntaxError",
     "evalue": "invalid syntax (3577607842.py, line 1)",
     "output_type": "error",
     "traceback": [
      "\u001b[1;36m  Cell \u001b[1;32mIn[5], line 1\u001b[1;36m\u001b[0m\n\u001b[1;33m    This loop will skip printing the number 3 and continue to the next iteration.\u001b[0m\n\u001b[1;37m         ^\u001b[0m\n\u001b[1;31mSyntaxError\u001b[0m\u001b[1;31m:\u001b[0m invalid syntax\n"
     ]
    }
   ],
   "source": [
    "This loop will skip printing the number 3 and continue to the next iteration.\n",
    "\n",
    "While Loop with break statement\n",
    "The break statement is useful for exiting a while loop prematurely based on a certain condition.\n",
    "\n"
   ]
  },
  {
   "cell_type": "code",
   "execution_count": 7,
   "id": "cf59874b-fe1d-4543-8ee4-f97e713c06c0",
   "metadata": {
    "tags": []
   },
   "outputs": [
    {
     "name": "stdout",
     "output_type": "stream",
     "text": [
      "1 2 3 4 5 "
     ]
    }
   ],
   "source": [
    "counter = 1\n",
    "while counter <= 10:\n",
    "    print(counter,end=' ')\n",
    "    if counter == 5:\n",
    "        break\n",
    "    counter += 1"
   ]
  },
  {
   "cell_type": "code",
   "execution_count": 9,
   "id": "4bec690a-9d37-451f-b8d9-126d433e9d4e",
   "metadata": {
    "tags": []
   },
   "outputs": [
    {
     "name": "stdin",
     "output_type": "stream",
     "text": [
      "Enter your age:  23\n"
     ]
    }
   ],
   "source": [
    "#This loop will stop when the counter variable is equal to 5.\n",
    "\n",
    "#Common use cases\n",
    "#1. User Input Validation:\n",
    "while True:\n",
    "    age = int(input(\"Enter your age: \"))\n",
    "    if age >= 0:\n",
    "        break\n",
    "    else:\n",
    "        print(\"Please enter a valid age.\")"
   ]
  },
  {
   "cell_type": "code",
   "execution_count": 10,
   "id": "29c03e54-1ca7-4fb6-a0d2-2fb418586391",
   "metadata": {
    "tags": []
   },
   "outputs": [
    {
     "name": "stdin",
     "output_type": "stream",
     "text": [
      "Continue playing? (yes/no):  yes\n",
      "Continue playing? (yes/no):  no\n"
     ]
    }
   ],
   "source": [
    "#2. Game Loops:\n",
    "game_over = False\n",
    "while not game_over:\n",
    "    # Game logic here\n",
    "    user_input = input(\"Continue playing? (yes/no): \")\n",
    "    if user_input.lower() == \"no\":\n",
    "        game_over = True"
   ]
  },
  {
   "cell_type": "code",
   "execution_count": null,
   "id": "6ba733ec-b02f-403f-87a1-4a21cdc3b3fc",
   "metadata": {},
   "outputs": [],
   "source": []
  }
 ],
 "metadata": {
  "kernelspec": {
   "display_name": "Python 3 (ipykernel)",
   "language": "python",
   "name": "python3"
  },
  "language_info": {
   "codemirror_mode": {
    "name": "ipython",
    "version": 3
   },
   "file_extension": ".py",
   "mimetype": "text/x-python",
   "name": "python",
   "nbconvert_exporter": "python",
   "pygments_lexer": "ipython3",
   "version": "3.11.5"
  }
 },
 "nbformat": 4,
 "nbformat_minor": 5
}
